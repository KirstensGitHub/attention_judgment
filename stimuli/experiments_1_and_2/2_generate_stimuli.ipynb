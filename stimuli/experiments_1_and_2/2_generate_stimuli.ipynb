{
 "cells": [
  {
   "cell_type": "markdown",
   "id": "5f2f67f9",
   "metadata": {},
   "source": [
    "### Imports"
   ]
  },
  {
   "cell_type": "code",
   "execution_count": 5,
   "id": "f3eee630",
   "metadata": {},
   "outputs": [],
   "source": [
    "import pandas as pd\n",
    "from stimulus_helpers import *"
   ]
  },
  {
   "cell_type": "markdown",
   "id": "63bd3720",
   "metadata": {},
   "source": [
    "### Create the stimuli, Experiment 1"
   ]
  },
  {
   "cell_type": "code",
   "execution_count": null,
   "id": "07581ea8",
   "metadata": {},
   "outputs": [
    {
     "name": "stdout",
     "output_type": "stream",
     "text": [
      "len(k) <= 2: 285992.bmp\n",
      "len(k) <= 2: 285992.bmp\n",
      "1\n"
     ]
    },
    {
     "name": "stderr",
     "output_type": "stream",
     "text": [
      "ffmpeg version 4.4 Copyright (c) 2000-2021 the FFmpeg developers\n",
      "  built with Apple clang version 11.0.0 (clang-1100.0.33.17)\n",
      "  configuration: --prefix=/usr/local/Cellar/ffmpeg/4.4_2 --enable-shared --enable-pthreads --enable-version3 --cc=clang --host-cflags= --host-ldflags= --enable-ffplay --enable-gnutls --enable-gpl --enable-libaom --enable-libbluray --enable-libdav1d --enable-libmp3lame --enable-libopus --enable-librav1e --enable-librubberband --enable-libsnappy --enable-libsrt --enable-libtesseract --enable-libtheora --enable-libvidstab --enable-libvorbis --enable-libvpx --enable-libwebp --enable-libx264 --enable-libx265 --enable-libxml2 --enable-libxvid --enable-lzma --enable-libfontconfig --enable-libfreetype --enable-frei0r --enable-libass --enable-libopencore-amrnb --enable-libopencore-amrwb --enable-libopenjpeg --enable-libspeex --enable-libsoxr --enable-libzmq --enable-libzimg --disable-libjack --disable-indev=jack --enable-avresample --enable-videotoolbox\n",
      "  libavutil      56. 70.100 / 56. 70.100\n",
      "  libavcodec     58.134.100 / 58.134.100\n",
      "  libavformat    58. 76.100 / 58. 76.100\n",
      "  libavdevice    58. 13.100 / 58. 13.100\n",
      "  libavfilter     7.110.100 /  7.110.100\n",
      "  libavresample   4.  0.  0 /  4.  0.  0\n",
      "  libswscale      5.  9.100 /  5.  9.100\n",
      "  libswresample   3.  9.100 /  3.  9.100\n",
      "  libpostproc    55.  9.100 / 55.  9.100\n",
      "Input #0, image2, from '*.jpg':\n",
      "  Duration: 00:00:03.01, start: 0.000000, bitrate: N/A\n",
      "  Stream #0:0: Video: mjpeg (Baseline), yuvj420p(pc, bt470bg/unknown/unknown), 1680x1050 [SAR 100:100 DAR 8:5], 180 fps, 180 tbr, 180 tbn, 180 tbc\n",
      "Stream mapping:\n",
      "  Stream #0:0 -> #0:0 (mjpeg (native) -> h264 (libx264))\n",
      "Press [q] to stop, [?] for help\n",
      "[libx264 @ 0x7f815b80c000] using SAR=1/1\n",
      "[libx264 @ 0x7f815b80c000] using cpu capabilities: MMX2 SSE2Fast SSSE3 SSE4.2 AVX FMA3 BMI2 AVX2\n",
      "[libx264 @ 0x7f815b80c000] profile High, level 5.2, 4:2:0, 8-bit\n",
      "[libx264 @ 0x7f815b80c000] 264 - core 163 r3060 5db6aa6 - H.264/MPEG-4 AVC codec - Copyleft 2003-2021 - http://www.videolan.org/x264.html - options: cabac=1 ref=3 deblock=1:0:0 analyse=0x3:0x113 me=hex subme=7 psy=1 psy_rd=1.00:0.00 mixed_ref=1 me_range=16 chroma_me=1 trellis=1 8x8dct=1 cqm=0 deadzone=21,11 fast_pskip=1 chroma_qp_offset=-2 threads=6 lookahead_threads=1 sliced_threads=0 nr=0 decimate=1 interlaced=0 bluray_compat=0 constrained_intra=0 bframes=3 b_pyramid=2 b_adapt=1 b_bias=0 direct=1 weightb=1 open_gop=0 weightp=2 keyint=250 keyint_min=25 scenecut=40 intra_refresh=0 rc_lookahead=40 rc=crf mbtree=1 crf=23.0 qcomp=0.60 qpmin=0 qpmax=69 qpstep=4 ip_ratio=1.40 aq=1:1.00\n",
      "Output #0, mp4, to '1159967.bmp_pp71_L1_V1.0_scrambled_freeview_isoFalse.mp4':\n",
      "  Metadata:\n",
      "    encoder         : Lavf58.76.100\n",
      "  Stream #0:0: Video: h264 (avc1 / 0x31637661), yuvj420p(pc, bt470bg/unknown/unknown, progressive), 1680x1050 [SAR 100:100 DAR 8:5], q=2-31, 180 fps, 11520 tbn\n",
      "    Metadata:\n",
      "      encoder         : Lavc58.134.100 libx264\n",
      "    Side data:\n",
      "      cpb: bitrate max/min/avg: 0/0/0 buffer size: 0 vbv_delay: N/A\n",
      "frame=  541 fps= 79 q=-1.0 Lsize=     281kB time=00:00:02.98 bitrate= 769.3kbits/s speed=0.436x    \n",
      "video:274kB audio:0kB subtitle:0kB other streams:0kB global headers:0kB muxing overhead: 2.629700%\n",
      "[libx264 @ 0x7f815b80c000] frame I:3     Avg QP:18.36  size: 74466\n",
      "[libx264 @ 0x7f815b80c000] frame P:136   Avg QP:17.45  size:   217\n",
      "[libx264 @ 0x7f815b80c000] frame B:402   Avg QP:17.67  size:    66\n",
      "[libx264 @ 0x7f815b80c000] consecutive B-frames:  0.9%  0.0%  0.0% 99.1%\n",
      "[libx264 @ 0x7f815b80c000] mb I  I16..4:  9.4% 89.6%  1.0%\n",
      "[libx264 @ 0x7f815b80c000] mb P  I16..4:  0.0%  0.1%  0.0%  P16..4:  0.2%  0.0%  0.0%  0.0%  0.0%    skip:99.7%\n",
      "[libx264 @ 0x7f815b80c000] mb B  I16..4:  0.0%  0.0%  0.0%  B16..8:  0.1%  0.0%  0.0%  direct: 0.0%  skip:99.9%  L0:33.5% L1:66.5% BI: 0.0%\n",
      "[libx264 @ 0x7f815b80c000] 8x8 transform intra:89.2% inter:98.0%\n",
      "[libx264 @ 0x7f815b80c000] coded y,uvDC,uvAC intra: 51.8% 38.7% 8.9% inter: 0.0% 0.0% 0.0%\n",
      "[libx264 @ 0x7f815b80c000] i16 v,h,dc,p: 54% 21% 19%  5%\n",
      "[libx264 @ 0x7f815b80c000] i8 v,h,dc,ddl,ddr,vr,hd,vl,hu: 32% 23% 27%  3%  2%  2%  3%  3%  5%\n",
      "[libx264 @ 0x7f815b80c000] i4 v,h,dc,ddl,ddr,vr,hd,vl,hu: 42% 26% 20%  3%  2%  3%  1%  2%  2%\n",
      "[libx264 @ 0x7f815b80c000] i8c dc,h,v,p: 58% 21% 18%  3%\n",
      "[libx264 @ 0x7f815b80c000] Weighted P-Frames: Y:0.0% UV:0.0%\n",
      "[libx264 @ 0x7f815b80c000] ref P L0: 89.4%  8.7%  1.4%  0.4%\n",
      "[libx264 @ 0x7f815b80c000] ref B L0: 86.2% 13.8%\n",
      "[libx264 @ 0x7f815b80c000] ref B L1: 99.2%  0.8%\n",
      "[libx264 @ 0x7f815b80c000] kb/s:743.64\n"
     ]
    }
   ],
   "source": [
    "df = pd.read_csv('stim1_example.csv') \n",
    "counter = 0\n",
    "\n",
    "for idx,row in df.iterrows():\n",
    "    \n",
    "    free_view   = get_gaze(row['subject'],int(row['list']),int(row['sub_version']),row['image'])\n",
    "    free_fixies = get_fixies(free_view) \n",
    "    free_dicts  = make_the_dicts(free_view)\n",
    "\n",
    "    movie_maker(free_fixies, free_dicts, int(row['list']), row['sub_version'], 'scrambled', isolated=False)\n",
    "    movie_maker(free_fixies, free_dicts, int(row['list']), row['sub_version'], 'veridical', isolated=False)\n",
    "    \n",
    "    counter +=1; print(counter)"
   ]
  },
  {
   "cell_type": "markdown",
   "id": "7ccda3a3",
   "metadata": {},
   "source": [
    "### Create the stimuli, Experiment 2"
   ]
  },
  {
   "cell_type": "code",
   "execution_count": null,
   "id": "b548ae78",
   "metadata": {},
   "outputs": [],
   "source": [
    "counter = 0\n",
    "\n",
    "for idx,row in df.iterrows():\n",
    "    \n",
    "    free_view   = get_gaze(row['subject'],int(row['list']),int(row['sub_version']),row['image'])\n",
    "    free_fixies = get_fixies(free_view) \n",
    "    free_dicts  = make_the_dicts(free_view)\n",
    "\n",
    "    movie_maker(free_fixies, free_dicts, int(row['list']), row['sub_version'], 'scrambled', isolated=True)\n",
    "    movie_maker(free_fixies, free_dicts, int(row['list']), row['sub_version'], 'veridical', isolated=True)\n",
    "    \n",
    "    counter +=1; print(counter)"
   ]
  }
 ],
 "metadata": {
  "kernelspec": {
   "display_name": "Python 3 (ipykernel)",
   "language": "python",
   "name": "python3"
  },
  "language_info": {
   "codemirror_mode": {
    "name": "ipython",
    "version": 3
   },
   "file_extension": ".py",
   "mimetype": "text/x-python",
   "name": "python",
   "nbconvert_exporter": "python",
   "pygments_lexer": "ipython3",
   "version": "3.9.6"
  }
 },
 "nbformat": 4,
 "nbformat_minor": 5
}
