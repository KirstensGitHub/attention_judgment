{
 "cells": [
  {
   "cell_type": "markdown",
   "id": "13382724",
   "metadata": {},
   "source": [
    "# Create Experiments 1 & 2 Stimulus Dataframes"
   ]
  },
  {
   "cell_type": "code",
   "execution_count": 3,
   "id": "a61436f3",
   "metadata": {},
   "outputs": [],
   "source": [
    "import pandas as pd\n",
    "import random\n",
    "import os\n",
    "import warnings\n",
    "warnings.filterwarnings('ignore')"
   ]
  },
  {
   "cell_type": "markdown",
   "id": "9271edbd",
   "metadata": {},
   "source": [
    "### Create stimulus df for Experiment 1"
   ]
  },
  {
   "cell_type": "code",
   "execution_count": 4,
   "id": "1a82613c",
   "metadata": {},
   "outputs": [],
   "source": [
    "# get all participant ID's\n",
    "one   = [x for x in os.listdir('/Users/kirstenziman/Desktop/Desktop/DIDEC_entire_corpus/Free_viewing/List1_ALL') if 'pp' in x]\n",
    "two   = [x for x in os.listdir('/Users/kirstenziman/Desktop/Desktop/DIDEC_entire_corpus/Free_viewing/List2_ALL') if 'pp' in x]\n",
    "three = [x for x in os.listdir('/Users/kirstenziman/Desktop/Desktop/DIDEC_entire_corpus/Free_viewing/List3_ALL') if 'pp' in x]\n",
    "\n",
    "# these are the participants in v1 and v2\n",
    "v1 = [51, 57, 63, 68, 75, 81, 93, 98, 151, 154, 53, 61, 70, 82, 88, 94, 95, 99, 152,  55, 59, 65, 73, 77, 84, 91, 100, 153]\n",
    "v2 = [52, 58, 64, 71, 76, 89, 54, 62, 67, 79, 86, 90, 96, 56, 60, 69, 80, 85, 92, 97]\n",
    "\n",
    "# add random sample from subjects to get to 70\n",
    "subs  = one+two+three\n",
    "full  = subs+random.sample(subs,22)\n",
    "\n",
    "# for each subject, randomly draw an image they saw \n",
    "# has to be an image that hasn't already been selected\n",
    "path = '/Users/kirstenziman/Downloads/images_with_borders/Images_resized_greyborders/'\n",
    "images = []; df = pd.DataFrame({'list':[], 'image':[], 'subject':[], 'sub_version':[]})\n",
    "\n",
    "for s in full:\n",
    "    version = int(1)\n",
    "    for group,im_path in zip([one, two, three],['List 1','List 2', 'List 3']):\n",
    "        if s in group:\n",
    "            image  = random.choice([x for x in os.listdir(path+im_path) if '.bmp' in x])\n",
    "            while image in images:\n",
    "                image  = random.choice([x for x in os.listdir(path+im_path) if '.bmp' in x])\n",
    "            if s in v2:\n",
    "                version = int(2)\n",
    "            df = df.append({'list':int(im_path[-1:]), 'image':image, 'subject':s, 'sub_version':version}, ignore_index=True)\n",
    "            images.append(image)"
   ]
  },
  {
   "cell_type": "markdown",
   "id": "78107597",
   "metadata": {},
   "source": [
    "### Save to csv"
   ]
  },
  {
   "cell_type": "code",
   "execution_count": 10,
   "id": "4b09e99f",
   "metadata": {},
   "outputs": [],
   "source": [
    "df.to_csv('stim1_example.csv')"
   ]
  },
  {
   "cell_type": "markdown",
   "id": "d65a8caa",
   "metadata": {},
   "source": [
    "### Create stimulus df for Experiment 2"
   ]
  },
  {
   "cell_type": "code",
   "execution_count": 7,
   "id": "496f7124",
   "metadata": {},
   "outputs": [],
   "source": [
    "# add random sample from subjects to get to 70\n",
    "subs  = one+two+three\n",
    "full  = subs+random.sample(subs,22)\n",
    "\n",
    "# for each subject, randomly draw an image they saw \n",
    "# has to be an image that hasn't already been selected\n",
    "path = '/Users/kirstenziman/Downloads/images_with_borders/Images_resized_greyborders/'\n",
    "images = list(df['image']); df2 = pd.DataFrame({'list':[], 'image':[], 'subject':[], 'sub_version':[]})\n",
    "\n",
    "for s in full:\n",
    "    version = int(1)\n",
    "    for group,im_path in zip([one, two, three],['List 1','List 2', 'List 3']):\n",
    "        if s in group:\n",
    "            image  = random.choice([x for x in os.listdir(path+im_path) if '.bmp' in x])\n",
    "            while image in images:\n",
    "                image  = random.choice([x for x in os.listdir(path+im_path) if '.bmp' in x])\n",
    "            if s in v2:\n",
    "                version = int(2)\n",
    "            row = pd.Series({'list':int(im_path[-1:]), 'image':image, 'subject':s, 'sub_version':version})\n",
    "            df2 = df2.append(row, ignore_index=True)\n",
    "            images.append(image)"
   ]
  },
  {
   "cell_type": "markdown",
   "id": "50568e89",
   "metadata": {},
   "source": [
    "### Save to csv"
   ]
  },
  {
   "cell_type": "code",
   "execution_count": 8,
   "id": "f069a3d4",
   "metadata": {},
   "outputs": [],
   "source": [
    "# df.to_csv('stim2.csv')"
   ]
  },
  {
   "cell_type": "markdown",
   "id": "472d99e6",
   "metadata": {},
   "source": [
    "### Check no identical rows in the two df's"
   ]
  },
  {
   "cell_type": "code",
   "execution_count": 9,
   "id": "56916984",
   "metadata": {},
   "outputs": [
    {
     "data": {
      "text/plain": [
       "[False,\n",
       " False,\n",
       " False,\n",
       " False,\n",
       " False,\n",
       " False,\n",
       " False,\n",
       " False,\n",
       " False,\n",
       " False,\n",
       " False,\n",
       " False,\n",
       " False,\n",
       " False,\n",
       " False,\n",
       " False,\n",
       " False,\n",
       " False,\n",
       " False,\n",
       " False,\n",
       " False,\n",
       " False,\n",
       " False,\n",
       " False,\n",
       " False,\n",
       " False,\n",
       " False,\n",
       " False,\n",
       " False,\n",
       " False,\n",
       " False,\n",
       " False,\n",
       " False,\n",
       " False,\n",
       " False,\n",
       " False,\n",
       " False,\n",
       " False,\n",
       " False,\n",
       " False,\n",
       " False,\n",
       " False,\n",
       " False,\n",
       " False,\n",
       " False,\n",
       " False,\n",
       " False,\n",
       " False,\n",
       " False,\n",
       " False,\n",
       " False,\n",
       " False,\n",
       " False,\n",
       " False,\n",
       " False,\n",
       " False,\n",
       " False,\n",
       " False,\n",
       " False,\n",
       " False,\n",
       " False,\n",
       " False,\n",
       " False,\n",
       " False,\n",
       " False,\n",
       " False,\n",
       " False,\n",
       " False,\n",
       " False,\n",
       " False]"
      ]
     },
     "execution_count": 9,
     "metadata": {},
     "output_type": "execute_result"
    }
   ],
   "source": [
    "list(pd.Series([m.all() for m in np.isin(df2.values,df.values)]))"
   ]
  },
  {
   "cell_type": "code",
   "execution_count": null,
   "id": "60a80421",
   "metadata": {},
   "outputs": [],
   "source": []
  }
 ],
 "metadata": {
  "kernelspec": {
   "display_name": "Python 3 (ipykernel)",
   "language": "python",
   "name": "python3"
  },
  "language_info": {
   "codemirror_mode": {
    "name": "ipython",
    "version": 3
   },
   "file_extension": ".py",
   "mimetype": "text/x-python",
   "name": "python",
   "nbconvert_exporter": "python",
   "pygments_lexer": "ipython3",
   "version": "3.9.6"
  }
 },
 "nbformat": 4,
 "nbformat_minor": 5
}
