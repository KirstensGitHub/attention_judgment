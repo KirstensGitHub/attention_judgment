{
 "cells": [
  {
   "cell_type": "markdown",
   "id": "a7a338f4",
   "metadata": {},
   "source": [
    "# Imports"
   ]
  },
  {
   "cell_type": "code",
   "execution_count": 1,
   "id": "0c9c247d",
   "metadata": {},
   "outputs": [],
   "source": [
    "import os\n",
    "import ffmpeg"
   ]
  },
  {
   "cell_type": "markdown",
   "id": "e4ee972e",
   "metadata": {},
   "source": [
    "Convert video stimuli to frame rate of 144 frames per second"
   ]
  },
  {
   "cell_type": "code",
   "execution_count": 1,
   "id": "4b3c6d7e",
   "metadata": {
    "scrolled": false
   },
   "outputs": [],
   "source": [
    "path = '.'\n",
    "# this assumes that all the video stimuli are in the present directory\n",
    "# you may prefer to move the video stimuli and update filepath as appropriate\n",
    "\n",
    "video_len = len([x for x in os.listdir(path) if '.mp4' in x])\n",
    "print(video_len)\n",
    "\n",
    "for idx,x in enumerate(os.listdir(path)):\n",
    "\n",
    "    if x[-4:]=='.mp4' in x:\n",
    "    \n",
    "        inny = path+'/'+x\n",
    "        outy = path+'/'+x[:-4]+'_fps144.mp4'\n",
    "\n",
    "        (\n",
    "        ffmpeg\n",
    "            .input(inny)\n",
    "            .filter('fps', fps=144, round='up')\n",
    "            .output(outy)\n",
    "            .run()\n",
    "        )"
   ]
  }
 ],
 "metadata": {
  "kernelspec": {
   "display_name": "Python 3 (ipykernel)",
   "language": "python",
   "name": "python3"
  },
  "language_info": {
   "codemirror_mode": {
    "name": "ipython",
    "version": 3
   },
   "file_extension": ".py",
   "mimetype": "text/x-python",
   "name": "python",
   "nbconvert_exporter": "python",
   "pygments_lexer": "ipython3",
   "version": "3.9.6"
  }
 },
 "nbformat": 4,
 "nbformat_minor": 5
}
