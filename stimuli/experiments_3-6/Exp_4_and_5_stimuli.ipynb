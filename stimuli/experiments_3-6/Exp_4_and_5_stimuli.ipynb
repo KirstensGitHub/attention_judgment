{
 "cells": [
  {
   "cell_type": "markdown",
   "id": "98a8febc",
   "metadata": {},
   "source": [
    "### Imports"
   ]
  },
  {
   "cell_type": "code",
   "execution_count": 1,
   "id": "a85fb1f8",
   "metadata": {},
   "outputs": [],
   "source": [
    "import os\n",
    "import ffmpeg"
   ]
  },
  {
   "cell_type": "markdown",
   "id": "7b2ca30a",
   "metadata": {},
   "source": [
    "### Stimulus creation"
   ]
  },
  {
   "cell_type": "markdown",
   "id": "db0ee8d2",
   "metadata": {},
   "source": [
    "In experiments 4 and 5, we displayed valid and time-reversed attention sequences over an image background and over a black background, respectively. These stimuli were created by reversing the videos from experiments 1 and 2. "
   ]
  },
  {
   "cell_type": "markdown",
   "id": "341a4768",
   "metadata": {},
   "source": [
    "### Code to reverse videos"
   ]
  },
  {
   "cell_type": "code",
   "execution_count": 8,
   "id": "6d9bca5a",
   "metadata": {},
   "outputs": [
    {
     "name": "stderr",
     "output_type": "stream",
     "text": [
      "ffmpeg version 4.4 Copyright (c) 2000-2021 the FFmpeg developers\n",
      "  built with Apple clang version 11.0.0 (clang-1100.0.33.17)\n",
      "  configuration: --prefix=/usr/local/Cellar/ffmpeg/4.4_2 --enable-shared --enable-pthreads --enable-version3 --cc=clang --host-cflags= --host-ldflags= --enable-ffplay --enable-gnutls --enable-gpl --enable-libaom --enable-libbluray --enable-libdav1d --enable-libmp3lame --enable-libopus --enable-librav1e --enable-librubberband --enable-libsnappy --enable-libsrt --enable-libtesseract --enable-libtheora --enable-libvidstab --enable-libvorbis --enable-libvpx --enable-libwebp --enable-libx264 --enable-libx265 --enable-libxml2 --enable-libxvid --enable-lzma --enable-libfontconfig --enable-libfreetype --enable-frei0r --enable-libass --enable-libopencore-amrnb --enable-libopencore-amrwb --enable-libopenjpeg --enable-libspeex --enable-libsoxr --enable-libzmq --enable-libzimg --disable-libjack --disable-indev=jack --enable-avresample --enable-videotoolbox\n",
      "  libavutil      56. 70.100 / 56. 70.100\n",
      "  libavcodec     58.134.100 / 58.134.100\n",
      "  libavformat    58. 76.100 / 58. 76.100\n",
      "  libavdevice    58. 13.100 / 58. 13.100\n",
      "  libavfilter     7.110.100 /  7.110.100\n",
      "  libavresample   4.  0.  0 /  4.  0.  0\n",
      "  libswscale      5.  9.100 /  5.  9.100\n",
      "  libswresample   3.  9.100 /  3.  9.100\n",
      "  libpostproc    55.  9.100 / 55.  9.100\n",
      "Input #0, mov,mp4,m4a,3gp,3g2,mj2, from '/Users/kirstenziman/Desktop/1159724.bmp_pp88_L2_V1_veridical_freeview_isoFalse_fps144.mp4':\n",
      "  Metadata:\n",
      "    major_brand     : isom\n",
      "    minor_version   : 512\n",
      "    compatible_brands: isomiso2avc1mp41\n",
      "    encoder         : Lavf58.76.100\n",
      "  Duration: 00:00:03.01, start: 0.000000, bitrate: 743 kb/s\n",
      "  Stream #0:0(und): Video: h264 (High) (avc1 / 0x31637661), yuvj420p(pc, bt470bg/unknown/unknown), 1680x1050 [SAR 1:1 DAR 8:5], 727 kb/s, 144 fps, 144 tbr, 18432 tbn, 288 tbc (default)\n",
      "    Metadata:\n",
      "      handler_name    : VideoHandler\n",
      "      vendor_id       : [0][0][0][0]\n",
      "Stream mapping:\n",
      "  Stream #0:0 -> #0:0 (h264 (native) -> h264 (libx264))\n",
      "Press [q] to stop, [?] for help\n",
      "[libx264 @ 0x7ff98a814800] using SAR=1/1\n",
      "[libx264 @ 0x7ff98a814800] using cpu capabilities: MMX2 SSE2Fast SSSE3 SSE4.2 AVX FMA3 BMI2 AVX2\n",
      "[libx264 @ 0x7ff98a814800] profile High, level 5.2, 4:2:0, 8-bit\n",
      "[libx264 @ 0x7ff98a814800] 264 - core 163 r3060 5db6aa6 - H.264/MPEG-4 AVC codec - Copyleft 2003-2021 - http://www.videolan.org/x264.html - options: cabac=1 ref=3 deblock=1:0:0 analyse=0x3:0x113 me=hex subme=7 psy=1 psy_rd=1.00:0.00 mixed_ref=1 me_range=16 chroma_me=1 trellis=1 8x8dct=1 cqm=0 deadzone=21,11 fast_pskip=1 chroma_qp_offset=-2 threads=6 lookahead_threads=1 sliced_threads=0 nr=0 decimate=1 interlaced=0 bluray_compat=0 constrained_intra=0 bframes=3 b_pyramid=2 b_adapt=1 b_bias=0 direct=1 weightb=1 open_gop=0 weightp=2 keyint=250 keyint_min=25 scenecut=40 intra_refresh=0 rc_lookahead=40 rc=crf mbtree=1 crf=23.0 qcomp=0.60 qpmin=0 qpmax=69 qpstep=4 ip_ratio=1.40 aq=1:1.00\n",
      "Output #0, mp4, to '/Users/kirstenziman/Desktop/1159724.bmp_pp88_L2_V1_veridical_freeview_isoFalse_fps144_reversed_REAL.mp4':\n",
      "  Metadata:\n",
      "    major_brand     : isom\n",
      "    minor_version   : 512\n",
      "    compatible_brands: isomiso2avc1mp41\n",
      "    encoder         : Lavf58.76.100\n",
      "  Stream #0:0(und): Video: h264 (avc1 / 0x31637661), yuvj420p(pc, bt470bg/unknown/unknown, progressive), 1680x1050 [SAR 1:1 DAR 8:5], q=2-31, 144 fps, 18432 tbn (default)\n",
      "    Metadata:\n",
      "      handler_name    : VideoHandler\n",
      "      vendor_id       : [0][0][0][0]\n",
      "      encoder         : Lavc58.134.100 libx264\n",
      "    Side data:\n",
      "      cpb: bitrate max/min/avg: 0/0/0 buffer size: 0 vbv_delay: N/A\n",
      "frame=  434 fps= 73 q=-1.0 Lsize=     273kB time=00:00:02.99 bitrate= 747.1kbits/s speed=0.506x    \n",
      "video:267kB audio:0kB subtitle:0kB other streams:0kB global headers:0kB muxing overhead: 2.222523%\n",
      "[libx264 @ 0x7ff98a814800] frame I:2     Avg QP:20.42  size:101930\n",
      "[libx264 @ 0x7ff98a814800] frame P:109   Avg QP:19.01  size:   428\n",
      "[libx264 @ 0x7ff98a814800] frame B:323   Avg QP:17.71  size:    69\n",
      "[libx264 @ 0x7ff98a814800] consecutive B-frames:  0.7%  0.0%  0.7% 98.6%\n",
      "[libx264 @ 0x7ff98a814800] mb I  I16..4:  8.3% 89.2%  2.5%\n",
      "[libx264 @ 0x7ff98a814800] mb P  I16..4:  0.0%  0.1%  0.0%  P16..4:  0.8%  0.0%  0.1%  0.0%  0.0%    skip:99.0%\n",
      "[libx264 @ 0x7ff98a814800] mb B  I16..4:  0.0%  0.0%  0.0%  B16..8:  0.2%  0.0%  0.0%  direct: 0.0%  skip:99.8%  L0:43.4% L1:56.6% BI: 0.0%\n",
      "[libx264 @ 0x7ff98a814800] 8x8 transform intra:88.9% inter:92.3%\n",
      "[libx264 @ 0x7ff98a814800] coded y,uvDC,uvAC intra: 57.5% 55.0% 27.6% inter: 0.1% 0.2% 0.0%\n",
      "[libx264 @ 0x7ff98a814800] i16 v,h,dc,p: 53% 23% 18%  6%\n",
      "[libx264 @ 0x7ff98a814800] i8 v,h,dc,ddl,ddr,vr,hd,vl,hu: 27% 21% 21%  3%  5%  4%  7%  5%  7%\n",
      "[libx264 @ 0x7ff98a814800] i4 v,h,dc,ddl,ddr,vr,hd,vl,hu: 27% 37% 14%  3%  5%  4%  5%  3%  2%\n",
      "[libx264 @ 0x7ff98a814800] i8c dc,h,v,p: 57% 21% 15%  7%\n",
      "[libx264 @ 0x7ff98a814800] Weighted P-Frames: Y:0.0% UV:0.0%\n",
      "[libx264 @ 0x7ff98a814800] ref P L0: 91.8%  4.3%  2.9%  1.0%\n",
      "[libx264 @ 0x7ff98a814800] ref B L0: 78.6% 21.3%  0.2%\n",
      "[libx264 @ 0x7ff98a814800] ref B L1: 96.4%  3.6%\n",
      "[libx264 @ 0x7ff98a814800] kb/s:723.95\n"
     ]
    }
   ],
   "source": [
    "# Update filepaths as needed to point to the movies you'd like to reverse\n",
    "\n",
    "path = '/Users/kirstenziman/Desktop/' #'STIM_SET_1/'\n",
    "# path = 'STIM_SET_2/'\n",
    "\n",
    "for x in os.listdir(path):\n",
    "    \n",
    "    if x[-6:]=='44.mp4':\n",
    "        \n",
    "        outy = path+x[:-4]+'_reversed_REAL.mp4'\n",
    "        \n",
    "        stringy = \"ffmpeg -i \"+path+x+\" -vf reverse \"+outy\n",
    "        \n",
    "        os.system(stringy) "
   ]
  },
  {
   "cell_type": "code",
   "execution_count": null,
   "id": "61dfe373",
   "metadata": {},
   "outputs": [],
   "source": []
  }
 ],
 "metadata": {
  "kernelspec": {
   "display_name": "Python 3 (ipykernel)",
   "language": "python",
   "name": "python3"
  },
  "language_info": {
   "codemirror_mode": {
    "name": "ipython",
    "version": 3
   },
   "file_extension": ".py",
   "mimetype": "text/x-python",
   "name": "python",
   "nbconvert_exporter": "python",
   "pygments_lexer": "ipython3",
   "version": "3.9.6"
  }
 },
 "nbformat": 4,
 "nbformat_minor": 5
}
