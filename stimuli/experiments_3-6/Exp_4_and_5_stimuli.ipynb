{
 "cells": [
  {
   "cell_type": "markdown",
   "id": "2e921ad6",
   "metadata": {},
   "source": [
    "### Imports"
   ]
  },
  {
   "cell_type": "code",
   "execution_count": 1,
   "id": "5a94cd59",
   "metadata": {},
   "outputs": [],
   "source": [
    "import os\n",
    "import ffmpeg"
   ]
  },
  {
   "cell_type": "markdown",
   "id": "14a98b0f",
   "metadata": {},
   "source": [
    "### Stimulus creation"
   ]
  },
  {
   "cell_type": "markdown",
   "id": "cf3c07fc",
   "metadata": {},
   "source": [
    "In experiments 4 and 5, we displayed valid and time-reversed attention sequences over an image background and over a black background, respectively. These stimuli were created by reversing the videos from experiments 1 and 2. "
   ]
  },
  {
   "cell_type": "markdown",
   "id": "83fcd410",
   "metadata": {},
   "source": [
    "### Code to reverse videos"
   ]
  },
  {
   "cell_type": "code",
   "execution_count": 10,
   "id": "2dddfe7c",
   "metadata": {},
   "outputs": [],
   "source": [
    "# Update filepaths as needed to point to the movies you'd like to reverse\n",
    "\n",
    "path = 'STIM_SET_1/'\n",
    "# path = 'STIM_SET_2/'\n",
    "\n",
    "for x in os.listdir(path):\n",
    "    \n",
    "    if x[-6:]=='44.mp4':\n",
    "        \n",
    "        outy = path+x[:-4]+'_reversed_REAL.mp4'\n",
    "        \n",
    "        stringy = \"ffmpeg -i \"+path+x+\" -vf reverse \"+outy\n",
    "        \n",
    "        os.system(stringy) "
   ]
  }
 ],
 "metadata": {
  "kernelspec": {
   "display_name": "Python 3 (ipykernel)",
   "language": "python",
   "name": "python3"
  },
  "language_info": {
   "codemirror_mode": {
    "name": "ipython",
    "version": 3
   },
   "file_extension": ".py",
   "mimetype": "text/x-python",
   "name": "python",
   "nbconvert_exporter": "python",
   "pygments_lexer": "ipython3",
   "version": "3.9.6"
  }
 },
 "nbformat": 4,
 "nbformat_minor": 5
}
