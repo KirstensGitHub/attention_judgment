{
 "cells": [
  {
   "cell_type": "code",
   "execution_count": null,
   "id": "63eac641",
   "metadata": {},
   "outputs": [],
   "source": []
  },
  {
   "cell_type": "code",
   "execution_count": null,
   "id": "2493e93f",
   "metadata": {},
   "outputs": [],
   "source": []
  },
  {
   "cell_type": "markdown",
   "id": "bd09e93d",
   "metadata": {},
   "source": [
    "In experiment 6, we displayed valid and mirror-reversed attention sequences over an image over a black background. These stimuli were created by mirror-reversing the stimuli from experiment 2. The code to mirror reverse the stimuli is found below:"
   ]
  },
  {
   "cell_type": "code",
   "execution_count": null,
   "id": "4d954f45",
   "metadata": {},
   "outputs": [],
   "source": []
  }
 ],
 "metadata": {
  "kernelspec": {
   "display_name": "Python 3 (ipykernel)",
   "language": "python",
   "name": "python3"
  },
  "language_info": {
   "codemirror_mode": {
    "name": "ipython",
    "version": 3
   },
   "file_extension": ".py",
   "mimetype": "text/x-python",
   "name": "python",
   "nbconvert_exporter": "python",
   "pygments_lexer": "ipython3",
   "version": "3.9.6"
  }
 },
 "nbformat": 4,
 "nbformat_minor": 5
}
