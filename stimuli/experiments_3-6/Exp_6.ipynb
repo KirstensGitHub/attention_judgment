{
 "cells": [
  {
   "cell_type": "markdown",
   "id": "5b3706b9",
   "metadata": {},
   "source": [
    "### Imports"
   ]
  },
  {
   "cell_type": "code",
   "execution_count": 1,
   "id": "c1de9655",
   "metadata": {},
   "outputs": [],
   "source": [
    "import os\n",
    "import ffmpeg"
   ]
  },
  {
   "cell_type": "markdown",
   "id": "760033ec",
   "metadata": {},
   "source": [
    "In experiment 6, we displayed valid and mirror-reversed attention sequences over an image over a black background. These stimuli were created by mirror-reversing the stimuli from experiment 2. The code to mirror reverse the stimuli is found below:"
   ]
  },
  {
   "cell_type": "markdown",
   "id": "d811a0b2",
   "metadata": {},
   "source": [
    "### Code to mirror-reverse videos"
   ]
  },
  {
   "cell_type": "code",
   "execution_count": 4,
   "id": "6d1b8c2c",
   "metadata": {},
   "outputs": [],
   "source": [
    "path = 'STIM_SET_2/'\n",
    "\n",
    "# Update filepaths as needed to point to the movies you'd like to reverse\n",
    "for x in os.listdir('/Users/kirstenziman/Desktop/'):\n",
    "    \n",
    "    if x[-6:]=='44.mp4':\n",
    "    # ^^this line assumes you'e reversing videos that have been compressed to 144hz & renamed\n",
    "        \n",
    "        inny = path+x\n",
    "        outy = path+x[:-4]+'_Hflip.mp4'\n",
    "        \n",
    "        stringy = 'ffmpeg -i '+inny+' -vf hflip -c:a copy '+outy\n",
    "        \n",
    "        os.system(stringy)"
   ]
  }
 ],
 "metadata": {
  "kernelspec": {
   "display_name": "Python 3 (ipykernel)",
   "language": "python",
   "name": "python3"
  },
  "language_info": {
   "codemirror_mode": {
    "name": "ipython",
    "version": 3
   },
   "file_extension": ".py",
   "mimetype": "text/x-python",
   "name": "python",
   "nbconvert_exporter": "python",
   "pygments_lexer": "ipython3",
   "version": "3.9.6"
  }
 },
 "nbformat": 4,
 "nbformat_minor": 5
}
