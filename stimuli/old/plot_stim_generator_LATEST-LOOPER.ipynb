{
 "cells": [
  {
   "cell_type": "markdown",
   "id": "7b5f09d0",
   "metadata": {},
   "source": [
    "# Generate Stimuli for Gaze Judgement Task"
   ]
  },
  {
   "cell_type": "code",
   "execution_count": 1,
   "id": "6c76cc1a",
   "metadata": {},
   "outputs": [],
   "source": [
    "from stimulus_helpers import *\n",
    "import pandas as pd\n",
    "import os"
   ]
  },
  {
   "cell_type": "markdown",
   "id": "978ee1cf",
   "metadata": {},
   "source": [
    "### Create video stimuli from df 1"
   ]
  },
  {
   "cell_type": "code",
   "execution_count": 1,
   "id": "ac57744f",
   "metadata": {
    "scrolled": false
   },
   "outputs": [],
   "source": [
    "df = pd.read_csv('stim1.csv') \n",
    "counter = 0\n",
    "\n",
    "for idx,row in new_row.iterrows():\n",
    "    \n",
    "    free_view   = get_gaze(row['subject'],int(row['list']),int(row['sub_version']),row['image'])\n",
    "    free_fixies = get_fixies(free_view) \n",
    "    free_dicts  = make_the_dicts(free_view)\n",
    "    \n",
    "    movie_maker(free_fixies, free_dicts, int(row['list']), row['sub_version'], 'scrambled', isolated=False)\n",
    "    movie_maker(free_fixies, free_dicts, int(row['list']), row['sub_version'], 'veridical', isolated=False)\n",
    "    \n",
    "    counter +=1; print(counter)"
   ]
  },
  {
   "cell_type": "markdown",
   "id": "e1c8bc95",
   "metadata": {},
   "source": [
    "### Replace stimuli with too few attended locations"
   ]
  },
  {
   "cell_type": "code",
   "execution_count": 6,
   "id": "b2711530",
   "metadata": {},
   "outputs": [
    {
     "data": {
      "text/html": [
       "<div>\n",
       "<style scoped>\n",
       "    .dataframe tbody tr th:only-of-type {\n",
       "        vertical-align: middle;\n",
       "    }\n",
       "\n",
       "    .dataframe tbody tr th {\n",
       "        vertical-align: top;\n",
       "    }\n",
       "\n",
       "    .dataframe thead th {\n",
       "        text-align: right;\n",
       "    }\n",
       "</style>\n",
       "<table border=\"1\" class=\"dataframe\">\n",
       "  <thead>\n",
       "    <tr style=\"text-align: right;\">\n",
       "      <th></th>\n",
       "      <th>Unnamed: 0</th>\n",
       "      <th>list</th>\n",
       "      <th>image</th>\n",
       "      <th>subject</th>\n",
       "      <th>sub_version</th>\n",
       "    </tr>\n",
       "  </thead>\n",
       "  <tbody>\n",
       "    <tr>\n",
       "      <th>62</th>\n",
       "      <td>62</td>\n",
       "      <td>3.0</td>\n",
       "      <td>285766.bmp</td>\n",
       "      <td>pp85</td>\n",
       "      <td>1.0</td>\n",
       "    </tr>\n",
       "  </tbody>\n",
       "</table>\n",
       "</div>"
      ],
      "text/plain": [
       "    Unnamed: 0  list       image subject  sub_version\n",
       "62          62   3.0  285766.bmp    pp85          1.0"
      ]
     },
     "execution_count": 6,
     "metadata": {},
     "output_type": "execute_result"
    }
   ],
   "source": [
    "df[df['image']=='285766.bmp']"
   ]
  },
  {
   "cell_type": "code",
   "execution_count": 20,
   "id": "33e5f36f",
   "metadata": {},
   "outputs": [
    {
     "name": "stdout",
     "output_type": "stream",
     "text": [
      "False\n",
      "False\n"
     ]
    }
   ],
   "source": [
    "# ^ one video stimulus had only two attention spotlights\n",
    "# replace with a different one\n",
    "\n",
    "df1 = pd.read_csv('stim1.csv') \n",
    "df2 = pd.read_csv('stim2.csv') \n",
    "\n",
    "path_3 = '/Users/kirstenziman/Downloads/images_with_borders/Images_resized_greyborders/List 3'\n",
    "\n",
    "new_image = random.sample(os.listdir(path_3),1)\n",
    "\n",
    "\n",
    "print(new_image in list(df1['image']))\n",
    "print(new_image in list(df2['image']))\n",
    "\n",
    "# while (new_image in df1['image']) or (new_image in df2['image']):\n",
    "#     new_image = random.sample(os.listdir(path_3),1)"
   ]
  },
  {
   "cell_type": "code",
   "execution_count": 21,
   "id": "a2fb585d",
   "metadata": {},
   "outputs": [
    {
     "data": {
      "text/plain": [
       "['1592397.bmp']"
      ]
     },
     "execution_count": 21,
     "metadata": {},
     "output_type": "execute_result"
    }
   ],
   "source": [
    "new_image"
   ]
  },
  {
   "cell_type": "code",
   "execution_count": 25,
   "id": "01d3d57e",
   "metadata": {},
   "outputs": [
    {
     "data": {
      "text/html": [
       "<div>\n",
       "<style scoped>\n",
       "    .dataframe tbody tr th:only-of-type {\n",
       "        vertical-align: middle;\n",
       "    }\n",
       "\n",
       "    .dataframe tbody tr th {\n",
       "        vertical-align: top;\n",
       "    }\n",
       "\n",
       "    .dataframe thead th {\n",
       "        text-align: right;\n",
       "    }\n",
       "</style>\n",
       "<table border=\"1\" class=\"dataframe\">\n",
       "  <thead>\n",
       "    <tr style=\"text-align: right;\">\n",
       "      <th></th>\n",
       "      <th>Unnamed: 0</th>\n",
       "      <th>list</th>\n",
       "      <th>image</th>\n",
       "      <th>subject</th>\n",
       "      <th>sub_version</th>\n",
       "    </tr>\n",
       "  </thead>\n",
       "  <tbody>\n",
       "    <tr>\n",
       "      <th>62</th>\n",
       "      <td>62</td>\n",
       "      <td>3.0</td>\n",
       "      <td>1592397.bmp</td>\n",
       "      <td>pp85</td>\n",
       "      <td>1.0</td>\n",
       "    </tr>\n",
       "  </tbody>\n",
       "</table>\n",
       "</div>"
      ],
      "text/plain": [
       "    Unnamed: 0  list        image subject  sub_version\n",
       "62          62   3.0  1592397.bmp    pp85          1.0"
      ]
     },
     "execution_count": 25,
     "metadata": {},
     "output_type": "execute_result"
    }
   ],
   "source": [
    "new_row = df1[62:63]\n",
    "new_row['image']=new_image"
   ]
  },
  {
   "cell_type": "code",
   "execution_count": 2,
   "id": "b3db1fb7",
   "metadata": {},
   "outputs": [],
   "source": [
    "df = pd.read_csv('stim2.csv') \n",
    "counter = 0\n",
    "\n",
    "for idx,row in df.iterrows():\n",
    "    \n",
    "    free_view   = get_gaze(row['subject'],int(row['list']),int(row['sub_version']),row['image'])\n",
    "    free_fixies = get_fixies(free_view) \n",
    "    free_dicts  = make_the_dicts(free_view)\n",
    "\n",
    "    movie_maker(free_fixies, free_dicts, int(row['list']), row['sub_version'], 'scrambled', isolated=True)\n",
    "    movie_maker(free_fixies, free_dicts, int(row['list']), row['sub_version'], 'veridical', isolated=True)\n",
    "    \n",
    "    counter +=1; print(counter)"
   ]
  },
  {
   "cell_type": "code",
   "execution_count": null,
   "id": "1735b5fd",
   "metadata": {},
   "outputs": [],
   "source": []
  }
 ],
 "metadata": {
  "kernelspec": {
   "display_name": "Python 3 (ipykernel)",
   "language": "python",
   "name": "python3"
  },
  "language_info": {
   "codemirror_mode": {
    "name": "ipython",
    "version": 3
   },
   "file_extension": ".py",
   "mimetype": "text/x-python",
   "name": "python",
   "nbconvert_exporter": "python",
   "pygments_lexer": "ipython3",
   "version": "3.9.6"
  }
 },
 "nbformat": 4,
 "nbformat_minor": 5
}
