{
 "cells": [
  {
   "cell_type": "markdown",
   "id": "26dfc980",
   "metadata": {},
   "source": [
    "# Imports"
   ]
  },
  {
   "cell_type": "code",
   "execution_count": 1,
   "id": "6c76cc1a",
   "metadata": {},
   "outputs": [],
   "source": [
    "from stimulus_helpers import *\n",
    "import pandas as pd\n",
    "import random\n",
    "import os"
   ]
  },
  {
   "cell_type": "markdown",
   "id": "978ee1cf",
   "metadata": {},
   "source": [
    "### Create videos from stimulus dataframe"
   ]
  },
  {
   "cell_type": "code",
   "execution_count": 9,
   "id": "e8d85c05",
   "metadata": {},
   "outputs": [],
   "source": [
    "# load the desired dataframe\n",
    "df1  = pd.read_csv('dataframes/stim_df_1')"
   ]
  },
  {
   "cell_type": "code",
   "execution_count": 10,
   "id": "94cfbc93",
   "metadata": {
    "scrolled": false
   },
   "outputs": [],
   "source": [
    "# make the videos \n",
    "for idx,row in df1.iterrows(): #sub1_extras[11:].iterrows():\n",
    "    \n",
    "    free_view   = get_gaze(row['subject'],int(row['list']),'1',row['image'])\n",
    "    free_fixies = get_fixies(free_view) \n",
    "    free_dicts  = make_the_dicts(free_view)\n",
    "    movie_maker(free_fixies, free_dicts, int(row['list']), row['sub_version'], 'veridical', isolated=False)"
   ]
  },
  {
   "cell_type": "markdown",
   "id": "5ef788fb",
   "metadata": {},
   "source": [
    "### Replacement videos"
   ]
  },
  {
   "cell_type": "markdown",
   "id": "c07445ad",
   "metadata": {},
   "source": [
    "Check for any resulting videos that have less than six attended locations"
   ]
  },
  {
   "cell_type": "code",
   "execution_count": 5,
   "id": "da7e4e25",
   "metadata": {},
   "outputs": [],
   "source": [
    "# NOTE: THIS CELL ASSUMES THAT THE ONLY CSV FILES IN THIS DIRECTORY ('.')\n",
    "# ARE METADATA CSV'S GENERATED WITH THE VIDEO STIMULI\n",
    "\n",
    "# You can also move the video files to a subdirectory and update the \n",
    "# filepath accordingly\n",
    "\n",
    "f = []\n",
    "\n",
    "all_csv = os.listdir('.') # '.' OR desired filepath\n",
    "all_csv = [x for x in all_csv if '.csv' in x]\n",
    "\n",
    "for c in all_csv:\n",
    "    f.append(pd.read_csv('.')) # '.' OR desired filepath\n",
    "    \n",
    "df = pd.concat(f)\n",
    "df[df['num_chunks']<6] \n",
    "# this will print info for videos with less than 6 attention locations"
   ]
  },
  {
   "cell_type": "markdown",
   "id": "3051b3f8",
   "metadata": {},
   "source": [
    "If replacement videos needed, make the appropriate dataframe here"
   ]
  },
  {
   "cell_type": "code",
   "execution_count": null,
   "id": "0b44b665",
   "metadata": {},
   "outputs": [],
   "source": [
    "new_df = pd.DataFrame({'subject':['pp99'],\n",
    "                      'image':['1160049.bmp'], \n",
    "                      'list':[2],\n",
    "                      'sub_version':[1]})"
   ]
  },
  {
   "cell_type": "markdown",
   "id": "e90681a8",
   "metadata": {},
   "source": [
    "Then make the replacement videos using the new dataframe"
   ]
  },
  {
   "cell_type": "code",
   "execution_count": null,
   "id": "6cc911ae",
   "metadata": {},
   "outputs": [],
   "source": [
    "for idx,row in new_df.iterrows(): \n",
    "    \n",
    "    free_view   = get_gaze(row['subject'],int(row['list']),'1',row['image'])\n",
    "    free_fixies = get_fixies(free_view) \n",
    "    free_dicts  = make_the_dicts(free_view)\n",
    "    movie_maker(free_fixies, free_dicts, int(row['list']), row['sub_version'], 'veridical', isolated=False)"
   ]
  },
  {
   "cell_type": "markdown",
   "id": "3e04f209",
   "metadata": {},
   "source": [
    "# Useful "
   ]
  },
  {
   "cell_type": "markdown",
   "id": "4943cc80",
   "metadata": {},
   "source": [
    "### Subject finder\n",
    "Use this code to find the viewers that will be paired together "
   ]
  },
  {
   "cell_type": "code",
   "execution_count": 12,
   "id": "7c423b5c",
   "metadata": {},
   "outputs": [],
   "source": [
    "for x in range(0,42):\n",
    "    \n",
    "    second = 'dataframes/stim_df_'+str(x)\n",
    "    dftwo = pd.read_csv(second)\n",
    "    \n",
    "    if list(df1['image'].unique()) == list(dftwo['image'].unique()):\n",
    "        print(second); print()\n",
    "        \n",
    "        print(df1['subject'].unique()); print(dftwo['subject'].unique())\n",
    "        print(); print()"
   ]
  }
 ],
 "metadata": {
  "kernelspec": {
   "display_name": "Python 3 (ipykernel)",
   "language": "python",
   "name": "python3"
  },
  "language_info": {
   "codemirror_mode": {
    "name": "ipython",
    "version": 3
   },
   "file_extension": ".py",
   "mimetype": "text/x-python",
   "name": "python",
   "nbconvert_exporter": "python",
   "pygments_lexer": "ipython3",
   "version": "3.9.6"
  }
 },
 "nbformat": 4,
 "nbformat_minor": 5
}
