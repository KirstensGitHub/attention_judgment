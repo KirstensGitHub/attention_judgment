{
 "cells": [
  {
   "cell_type": "markdown",
   "id": "4fadd629",
   "metadata": {},
   "source": [
    "# Create learning task stimulus dataframe"
   ]
  },
  {
   "cell_type": "markdown",
   "id": "9de204e0",
   "metadata": {},
   "source": [
    "### Imports"
   ]
  },
  {
   "cell_type": "code",
   "execution_count": 2,
   "id": "0114e1f1",
   "metadata": {},
   "outputs": [],
   "source": [
    "from stimulus_helpers import *\n",
    "import pandas as pd\n",
    "import random\n",
    "from itertools import combinations\n",
    "from itertools import chain\n",
    "import random\n",
    "import os"
   ]
  },
  {
   "cell_type": "markdown",
   "id": "7d36277e",
   "metadata": {},
   "source": [
    "# Create stimulus dataframes"
   ]
  },
  {
   "cell_type": "code",
   "execution_count": 3,
   "id": "d07db0af",
   "metadata": {},
   "outputs": [],
   "source": [
    "# three lists of subjects who saw the same stimuli\n",
    "l3_v1 = ['pp65','pp73','pp77','pp84','pp91','pp100','pp153','pp59','pp55']\n",
    "l3_v2 = ['pp56','pp60','pp69','pp80','pp85','pp92','pp97']\n",
    "l3 = l3_v1 + l3_v2\n",
    "\n",
    "l2_v1 = ['pp61','pp70','pp82','pp88','pp94','pp95','pp99','pp152','pp53']\n",
    "l2_v2 = ['pp54','pp62','pp67','pp79','pp86','pp96','pp90']\n",
    "l2 = l2_v1 + l2_v2\n",
    "\n",
    "l1_v1 = ['pp81','pp98','pp51','pp154','pp57','pp151','pp63','pp68','pp75','pp93']\n",
    "l1_v2 = ['pp58','pp64','pp71','pp76','pp89','pp52']\n",
    "l1 = l1_v1 + l1_v2"
   ]
  },
  {
   "cell_type": "code",
   "execution_count": 4,
   "id": "a5912559",
   "metadata": {},
   "outputs": [
    {
     "name": "stdout",
     "output_type": "stream",
     "text": [
      "List 1: 10, 6\n",
      "List 1, TOTAL: 16\n",
      "\n",
      "List 2: 9, 7\n",
      "List 2, TOTAL: 16\n",
      "\n",
      "List 3: 9, 7\n",
      "List 3, TOTAL: 16\n",
      "\n"
     ]
    }
   ],
   "source": [
    "print('List 1: '+str(len(l1_v1))+', '+str(len(l1_v2)))\n",
    "print('List 1, TOTAL: '+str(len(l1)));print()\n",
    "\n",
    "print('List 2: '+str(len(l2_v1))+', '+str(len(l2_v2)))\n",
    "print('List 2, TOTAL: '+str(len(l1)));print()\n",
    "\n",
    "print('List 3: '+str(len(l3_v1))+', '+str(len(l3_v2)))\n",
    "print('List 3, TOTAL: '+str(len(l1)));print()"
   ]
  },
  {
   "cell_type": "code",
   "execution_count": 6,
   "id": "7c9fd2e9",
   "metadata": {},
   "outputs": [
    {
     "name": "stdout",
     "output_type": "stream",
     "text": [
      "103\n",
      "102\n",
      "102\n"
     ]
    }
   ],
   "source": [
    "df_list = []\n",
    "path    = 'images_with_borders/Images_resized_greyborders/'\n",
    "\n",
    "# for each list\n",
    "for l_int,l,small_path in zip([1,2,3],[l1,l2,l3],['List 1','List 2','List 3']):\n",
    "\n",
    "    #####################################################\n",
    "    # VIEWERS - let's go for 21, 7 from each list \n",
    "    #####################################################\n",
    "    \n",
    "    # randomly select 14 viewers (split into 14 pairs)\n",
    "    fourteen = random.sample(l,14)\n",
    "    fourteen_full = []\n",
    "    \n",
    "    # make into 70 (for 70 trials in df)\n",
    "    for f in fourteen:\n",
    "        fourteen_full = fourteen_full+[f]*70\n",
    "        \n",
    "    # split viewers in half\n",
    "    df_1 = pd.DataFrame({'subject':fourteen_full[0:int(len(fourteen)*70/2)]})\n",
    "    df_2 = pd.DataFrame({'subject':fourteen_full[int(len(fourteen)*70/2):]})\n",
    "    \n",
    "    # IMAGES ############################################\n",
    "    # for each list, randomly select 70 photos\n",
    "    # add the photos to the appropriate df\n",
    "    #####################################################\n",
    "    \n",
    "    # for each list\n",
    "    #for idx,small_path in enumerate(['List 1','List 2', 'List 3']):\n",
    "        \n",
    "    # start new empty image stim list\n",
    "    full_images = []\n",
    "\n",
    "    # make path to this list's images\n",
    "    full_path = path+small_path\n",
    "\n",
    "    # for each subject pair\n",
    "    for sub in range(0,7):\n",
    "\n",
    "        # randomly sample 70 images\n",
    "        images  = [x for x in os.listdir(full_path) if x[-3:]=='bmp']\n",
    "        seventy = list(random.sample(images, 70))\n",
    "\n",
    "        # add them to total image list\n",
    "        full_images = full_images+seventy\n",
    "\n",
    "    # add them to df's\n",
    "    df_1['image']   = full_images;   df_2['image']   = full_images\n",
    "    print(len(set(full_images)))\n",
    "            \n",
    "            \n",
    "#         # use this code if same 70 images for every person\n",
    "#         # randomly sample 70 of the images\n",
    "#         images  = [x for x in os.listdir(full_path) if x[-3:]=='bmp']\n",
    "#         eighty  = list(random.sample(images, 80))\n",
    "\n",
    "\n",
    "    # add to dfs\n",
    "    df_1['list']    = l_int;         df_2['list']    = l_int\n",
    "    df_1['version'] = 1;             df_2['version'] = 1\n",
    "    #df_1['image']  = eighty[:70]*7; df_2['image']   = eighty[:70]*7\n",
    "\n",
    "    df_list.append(df_1); df_list.append(df_2)\n"
   ]
  },
  {
   "cell_type": "code",
   "execution_count": 7,
   "id": "d7bd2126",
   "metadata": {},
   "outputs": [],
   "source": [
    "learning_df = pd.concat(df_list)\n",
    "#learning_df.to_csv('learning_df.csv')"
   ]
  },
  {
   "cell_type": "markdown",
   "id": "7ce37510",
   "metadata": {},
   "source": [
    "### Split full stim df into chunks (for batch-wise stimulus generation)"
   ]
  },
  {
   "cell_type": "code",
   "execution_count": 8,
   "id": "712d41bf",
   "metadata": {},
   "outputs": [
    {
     "data": {
      "text/plain": [
       "70.0"
      ]
     },
     "execution_count": 8,
     "metadata": {},
     "output_type": "execute_result"
    }
   ],
   "source": [
    "learning_df.shape[0]/42"
   ]
  },
  {
   "cell_type": "code",
   "execution_count": 12,
   "id": "392227c9",
   "metadata": {},
   "outputs": [],
   "source": [
    "for idx,x in enumerate(learning_df['subject'].unique()):\n",
    "    \n",
    "    dat = learning_df[learning_df['subject']==x]\n",
    "    \n",
    "    file_string = 'stim_df_'+str(idx)\n",
    "    \n",
    "    # dat.to_csv('dataframes/'+file_string)"
   ]
  },
  {
   "cell_type": "markdown",
   "id": "ee792aae",
   "metadata": {},
   "source": [
    "### Extra stim videos"
   ]
  },
  {
   "cell_type": "markdown",
   "id": "73bca281",
   "metadata": {},
   "source": [
    "If we need to replace any videos from the pre-selected viewer-image pairings, use the code below to randomly select N number of"
   ]
  },
  {
   "cell_type": "code",
   "execution_count": 20,
   "id": "14c908b2",
   "metadata": {},
   "outputs": [
    {
     "name": "stdout",
     "output_type": "stream",
     "text": [
      "32\n"
     ]
    },
    {
     "data": {
      "text/plain": [
       "['285684.bmp']"
      ]
     },
     "execution_count": 20,
     "metadata": {},
     "output_type": "execute_result"
    }
   ],
   "source": [
    "N = 1\n",
    "\n",
    "### list 2 extras #####################################################\n",
    "df      = pd.read_csv('dataframes/stim_df_34')\n",
    "path_1  = 'images_with_borders/Images_resized_greyborders/List 3'\n",
    "\n",
    "images_full  = [x for x in os.listdir(path_1) if x[-3:]=='bmp']\n",
    "images_used  = list(df['image'].unique())\n",
    "images_remaining = [x for x in images_full if x not in images_used]\n",
    "\n",
    "#seventy = list(random.sample(images, 70))\n",
    "        \n",
    "####################################################################### \n",
    "print(len(images_remaining))\n",
    "\n",
    "extras = list(random.sample(images_remaining, N))\n",
    "#extras.to_csv('extras.csv')\n",
    "extras"
   ]
  }
 ],
 "metadata": {
  "kernelspec": {
   "display_name": "Python 3 (ipykernel)",
   "language": "python",
   "name": "python3"
  },
  "language_info": {
   "codemirror_mode": {
    "name": "ipython",
    "version": 3
   },
   "file_extension": ".py",
   "mimetype": "text/x-python",
   "name": "python",
   "nbconvert_exporter": "python",
   "pygments_lexer": "ipython3",
   "version": "3.9.6"
  }
 },
 "nbformat": 4,
 "nbformat_minor": 5
}
