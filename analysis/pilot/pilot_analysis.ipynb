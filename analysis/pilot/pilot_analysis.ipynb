{
 "cells": [
  {
   "cell_type": "markdown",
   "id": "6bee0098",
   "metadata": {},
   "source": [
    "# Import Packages"
   ]
  },
  {
   "cell_type": "code",
   "execution_count": 73,
   "id": "aaf0aae4",
   "metadata": {},
   "outputs": [],
   "source": [
    "import pandas as pd\n",
    "import seaborn as sb\n",
    "import os\n",
    "from matplotlib import pyplot as plt\n",
    "import scipy\n",
    "import pingouin as pg\n",
    "import scipy.stats as stats\n",
    "import statsmodels\n",
    "import numpy as np\n",
    "from math import sqrt\n",
    "from statsmodels.stats.power import TTestIndPower\n",
    "import warnings\n",
    "warnings.filterwarnings('ignore')"
   ]
  },
  {
   "cell_type": "markdown",
   "id": "872c9017",
   "metadata": {},
   "source": [
    "### Concatenate all pilot data files"
   ]
  },
  {
   "cell_type": "code",
   "execution_count": 74,
   "id": "1317b49e",
   "metadata": {},
   "outputs": [],
   "source": [
    "data_list = []\n",
    "path      = 'pilot_data'\n",
    "\n",
    "for idx,x in enumerate(os.listdir(path)):\n",
    "    if x != '.DS_Store':\n",
    "        df = pd.read_csv(path+'/'+x)\n",
    "        df['sub_num'] = idx\n",
    "        data_list.append(df)"
   ]
  },
  {
   "cell_type": "markdown",
   "id": "d27fc54c",
   "metadata": {},
   "source": [
    "### Organize response scores"
   ]
  },
  {
   "cell_type": "code",
   "execution_count": 75,
   "id": "a93deef7",
   "metadata": {},
   "outputs": [],
   "source": [
    "# Function for organizing data\n",
    "\n",
    "def organize_data(data):\n",
    "    '''\n",
    "    input : original data df\n",
    "    output: data df with:  - exp_version\n",
    "                           - score\n",
    "                           - confidence rating\n",
    "    '''\n",
    "    \n",
    "    # organize scores\n",
    "    data['proportion_correct'] = np.nan\n",
    "    \n",
    "    data.loc[(data['responses'].str.contains('judgement'))\n",
    "            &(data['responses'].str.contains('0'))\n",
    "            &(data['correct_answer']==0), 'proportion_correct']=1\n",
    "\n",
    "    data.loc[(data['responses'].str.contains('judgement'))\n",
    "                &(data['responses'].str.contains('1'))\n",
    "                &(data['correct_answer']==1), 'proportion_correct']=1\n",
    "\n",
    "    data.loc[(data['responses'].str.contains('judgement'))\n",
    "                &(data['responses'].str.contains('1'))\n",
    "                &(data['correct_answer']==0), 'proportion_correct']=0\n",
    "\n",
    "    data.loc[(data['responses'].str.contains('judgement'))\n",
    "                &(data['responses'].str.contains('0'))\n",
    "                &(data['correct_answer']==1), 'proportion_correct']=0\n",
    "    \n",
    "    # organize confidence ratings\n",
    "    data['confidence'] = np.nan\n",
    "    \n",
    "    for idx,x in data[data['proportion_correct'].notna()].iterrows():\n",
    "        for a in range(0,4):\n",
    "            data.loc[idx,'confidence']=int(data.loc[idx+1]['responses'][-2])\n",
    "    \n",
    "    # organize experiment version\n",
    "    data['version'] = np.nan\n",
    "    maps = 0\n",
    "    \n",
    "    for x in list(data['image'].unique()):\n",
    "        if type(x)==str and \"mapOnly\" in x:\n",
    "            maps += 1\n",
    "            \n",
    "    if maps>0:\n",
    "        data['version'] = 'isolated_attention'\n",
    "    else:\n",
    "        data['version'] = 'image_attention'\n",
    "    \n",
    "    return(data)"
   ]
  },
  {
   "cell_type": "markdown",
   "id": "9bc2dd74",
   "metadata": {},
   "source": [
    "### Organize data lists"
   ]
  },
  {
   "cell_type": "code",
   "execution_count": 76,
   "id": "0dc3b0cc",
   "metadata": {},
   "outputs": [],
   "source": [
    "clean_list = [organize_data(x) for x in data_list]"
   ]
  },
  {
   "cell_type": "markdown",
   "id": "6e4e987b",
   "metadata": {},
   "source": [
    "### Plot data, summary"
   ]
  },
  {
   "cell_type": "markdown",
   "id": "68f9d821",
   "metadata": {},
   "source": [
    "### General performance"
   ]
  },
  {
   "cell_type": "code",
   "execution_count": 77,
   "id": "a3ee332d",
   "metadata": {},
   "outputs": [],
   "source": [
    "scrambles = [x for x in clean_list if x['version'].unique()[0]=='image_attention']\n",
    "scrambles_concat = pd.concat(scrambles)\n",
    "\n",
    "s = scrambles_concat.groupby(['sub_num','version'],as_index=False).mean()"
   ]
  },
  {
   "cell_type": "code",
   "execution_count": 78,
   "id": "579db960",
   "metadata": {},
   "outputs": [
    {
     "name": "stdout",
     "output_type": "stream",
     "text": [
      "Total percent correct, by experiment\n"
     ]
    },
    {
     "data": {
      "image/png": "[encoded data removed]",
      "text/plain": [
       "<Figure size 432x288 with 1 Axes>"
      ]
     },
     "metadata": {},
     "output_type": "display_data"
    }
   ],
   "source": [
    "print('Total percent correct, by experiment')\n",
    "\n",
    "full_concat = pd.concat([s]) #,m])\n",
    "\n",
    "#grouped_m = maps_concat.groupby(['sub_num','version'],as_index=False).mean()\n",
    "grouped_s = scrambles_concat.groupby(['sub_num','version'],as_index=False).mean()\n",
    "\n",
    "sb.set(font_scale=1.7)\n",
    "sb.set_style(\"whitegrid\")\n",
    "\n",
    "plt.hlines(.5, -.56, 2.5, colors='k', linestyles='dotted')\n",
    "sb.barplot(x='version',y='proportion_correct',data=full_concat[full_concat['version']=='image_attention'])\n",
    "plt.show()"
   ]
  },
  {
   "cell_type": "markdown",
   "id": "cc3b21f9",
   "metadata": {},
   "source": [
    "### Performance by Confidence Level"
   ]
  },
  {
   "cell_type": "code",
   "execution_count": 79,
   "id": "b498cded",
   "metadata": {},
   "outputs": [
    {
     "name": "stdout",
     "output_type": "stream",
     "text": [
      "Image Attention (veridical vs. scrambled)\n",
      "\n",
      "Proportion of correct veridical-vs-scrambled judgements at each confidence level\n"
     ]
    },
    {
     "data": {
      "image/png": "[encoded data removed]",
      "text/plain": [
       "<Figure size 432x288 with 1 Axes>"
      ]
     },
     "metadata": {},
     "output_type": "display_data"
    }
   ],
   "source": [
    "scrambles = [x for x in clean_list if x['version'].unique()[0]=='image_attention']\n",
    "maps      = [x for x in clean_list if x['version'].unique()[0]=='isolated_attention']\n",
    "\n",
    "for idx,(a,b) in enumerate(zip(scrambles,maps)):\n",
    "    \n",
    "    a['sub_num'] = idx; b['sub_num'] = idx\n",
    "    scrambles[idx] = a; maps[idx] = b\n",
    "    \n",
    "print('Image Attention (veridical vs. scrambled)');print()\n",
    "print('Proportion of correct veridical-vs-scrambled judgements at each confidence level')\n",
    "scrambles_concat = pd.concat(scrambles)\n",
    "grouped_s = scrambles_concat.groupby(['sub_num','confidence','version'],as_index=False).mean()\n",
    "sb.barplot(x='confidence',y='proportion_correct',data=grouped_s)\n",
    "# sb.scatterplot(x='confidence',y='proportion_correct',data=grouped_s)\n",
    "\n",
    "plt.hlines(.5, -.56, 3.6, colors='k', linestyles='dotted')\n",
    "\n",
    "plt.show()\n"
   ]
  },
  {
   "cell_type": "markdown",
   "id": "13ed8a40",
   "metadata": {},
   "source": [
    "### Is performance significantly above chance?"
   ]
  },
  {
   "cell_type": "markdown",
   "id": "a17012d1",
   "metadata": {},
   "source": [
    "Prep stats data"
   ]
  },
  {
   "cell_type": "code",
   "execution_count": 80,
   "id": "08e1ab2a",
   "metadata": {},
   "outputs": [],
   "source": [
    "s = scrambles_concat.groupby(['sub_num','version'],as_index=False).mean()"
   ]
  },
  {
   "cell_type": "markdown",
   "id": "b6058ad1",
   "metadata": {},
   "source": [
    "Run stats"
   ]
  },
  {
   "cell_type": "code",
   "execution_count": 81,
   "id": "b650b1b8",
   "metadata": {},
   "outputs": [
    {
     "data": {
      "text/plain": [
       "TtestResult(statistic=2.4027747095163994, pvalue=0.07413293706756822, df=4)"
      ]
     },
     "execution_count": 81,
     "metadata": {},
     "output_type": "execute_result"
    }
   ],
   "source": [
    "stats.ttest_1samp(a=list(full_concat.loc[full_concat['version']=='image_attention','proportion_correct']), popmean=.5)"
   ]
  },
  {
   "cell_type": "markdown",
   "id": "7df4acf6",
   "metadata": {},
   "source": [
    "# Determine number of subjects needed (power analysis)\n",
    "\n",
    "Reference: https://www.geeksforgeeks.org/introduction-to-power-analysis-in-python/"
   ]
  },
  {
   "cell_type": "markdown",
   "id": "a6b3ca25",
   "metadata": {},
   "source": [
    "first calculate cohen's d --> (sample_mean - theoretical_mean) / sample_sd"
   ]
  },
  {
   "cell_type": "code",
   "execution_count": 82,
   "id": "919a505a",
   "metadata": {},
   "outputs": [],
   "source": [
    "cohen_d_image    = (full_concat.loc[full_concat['version']=='image_attention','proportion_correct'].mean()-.5) / np.std(np.array(full_concat.loc[full_concat['version']=='image_attention','proportion_correct']), ddof=1)"
   ]
  },
  {
   "cell_type": "markdown",
   "id": "0fefc723",
   "metadata": {},
   "source": [
    "power analysis"
   ]
  },
  {
   "cell_type": "code",
   "execution_count": 83,
   "id": "fe294727",
   "metadata": {},
   "outputs": [
    {
     "name": "stdout",
     "output_type": "stream",
     "text": [
      "Required sample size: 11.450248467701996\n"
     ]
    }
   ],
   "source": [
    "# factors for power analysis\n",
    "alpha = 0.05; power = 0.8\n",
    "\n",
    "obj = TTestIndPower()\n",
    "n   = obj.solve_power(effect_size=cohen_d_image, alpha=alpha, power=power, \n",
    "                    ratio=1, alternative='larger')\n",
    "print('Required sample size: '+str(n))"
   ]
  }
 ],
 "metadata": {
  "kernelspec": {
   "display_name": "Python 3 (ipykernel)",
   "language": "python",
   "name": "python3"
  },
  "language_info": {
   "codemirror_mode": {
    "name": "ipython",
    "version": 3
   },
   "file_extension": ".py",
   "mimetype": "text/x-python",
   "name": "python",
   "nbconvert_exporter": "python",
   "pygments_lexer": "ipython3",
   "version": "3.9.6"
  }
 },
 "nbformat": 4,
 "nbformat_minor": 5
}
