{
 "cells": [
  {
   "cell_type": "markdown",
   "id": "7a4dbb66",
   "metadata": {},
   "source": [
    "# Import Packages"
   ]
  },
  {
   "cell_type": "code",
   "execution_count": 1,
   "id": "44d666b5",
   "metadata": {},
   "outputs": [
    {
     "name": "stderr",
     "output_type": "stream",
     "text": [
      "/usr/local/lib/python3.9/site-packages/outdated/utils.py:14: OutdatedPackageWarning: The package pingouin is out of date. Your version is 0.5.0, the latest is 0.5.3.\n",
      "Set the environment variable OUTDATED_IGNORE=1 to disable these warnings.\n",
      "  return warn(\n",
      "/usr/local/lib/python3.9/site-packages/outdated/utils.py:14: OutdatedPackageWarning: The package outdated is out of date. Your version is 0.2.1, the latest is 0.2.2.\n",
      "Set the environment variable OUTDATED_IGNORE=1 to disable these warnings.\n",
      "  return warn(\n"
     ]
    }
   ],
   "source": [
    "%matplotlib inline\n",
    "import pandas as pd\n",
    "import seaborn as sb\n",
    "import os\n",
    "import math\n",
    "from matplotlib import pyplot as plt\n",
    "import scipy\n",
    "import pingouin as pg\n",
    "import scipy.stats as stats\n",
    "import statsmodels\n",
    "import numpy as np\n",
    "from math import sqrt\n",
    "from statsmodels.stats.power import TTestIndPower\n",
    "from scipy.stats import binom_test\n",
    "from analysis_helpers import *\n",
    "from  matplotlib.ticker import FuncFormatter\n",
    "from statannotations.Annotator import Annotator\n",
    "import pingouin as pg\n",
    "import scipy\n",
    "from scipy import stats\n",
    "from itertools import combinations\n",
    "import warnings\n",
    "from math import sqrt\n",
    "import warnings\n",
    "import statsmodels.api as sm\n",
    "warnings.filterwarnings('ignore')\n",
    "\n",
    "sb.set(font_scale=2)\n",
    "sb.set_style(\"white\")"
   ]
  },
  {
   "cell_type": "markdown",
   "id": "753fb75a",
   "metadata": {},
   "source": [
    "# Concatenate data "
   ]
  },
  {
   "cell_type": "code",
   "execution_count": 2,
   "id": "c2de6833",
   "metadata": {},
   "outputs": [],
   "source": [
    "file_ID = ['MISMATCH',                     'SCRAMBLE_PI',                                'SCRAMBLE_ISO',                              'FLIP',                            'FOR_REV_PILOT',                           'FOR_REV_ISOLATED']      \n",
    "tag     = ['Mismatched Image', 'Scrambled Order versus Veridical (Image)','Scrambled Order versus Veridical (Black)','Horizontal Flip versus Veridical (Black)','Reverse Order versus Veridical (Image)','Reverse Order versus Veridical (Black)']\n",
    "path    = 'exp1-6_data' #'../pilot_data'\n",
    "data_d  = {} \n",
    "\n",
    "for t in tag:\n",
    "    data_d[t] = []\n",
    "\n",
    "\n",
    "for x in os.listdir(path):\n",
    "    \n",
    "    if x != '.DS_Store' and x!='.ipynb_checkpoints' and 'csv' in x:\n",
    "        df = pd.read_csv(path+'/'+x)\n",
    "        \n",
    "        for a,b in zip(file_ID,tag):\n",
    "            if a in x:\n",
    "                df['version'] = b\n",
    "                data_d[b].append(df)\n",
    "                "
   ]
  },
  {
   "cell_type": "code",
   "execution_count": 3,
   "id": "79dbb7fb",
   "metadata": {},
   "outputs": [],
   "source": [
    "concat_list = []\n",
    "for k in data_d:\n",
    "    concat_list.append(data_d[k])\n",
    "    \n",
    "for idx,x in enumerate(concat_list):\n",
    "    concat_list[idx]=pd.concat([organize_data(y) for y in x])\n",
    "    \n",
    "full_data = pd.concat(concat_list)"
   ]
  },
  {
   "cell_type": "markdown",
   "id": "3ed9ad2a",
   "metadata": {},
   "source": [
    "#### Prep extra subject\n",
    "\n",
    "Prep the data for one subject whose data file was saved in a different format\n",
    "\n",
    "Note: the 'proportion correct' column for this subject was added manually by author KZ"
   ]
  },
  {
   "cell_type": "code",
   "execution_count": 4,
   "id": "cbcd65a7",
   "metadata": {},
   "outputs": [],
   "source": [
    "subject = pd.read_csv(\"exp1-6_data/problem_subject.csv\")"
   ]
  },
  {
   "cell_type": "code",
   "execution_count": 5,
   "id": "864811ca",
   "metadata": {},
   "outputs": [],
   "source": [
    "subject['version'] = 'Scrambled Order versus Veridical (Black)'\n",
    "subject['Percent Correct']    = subject['proportion_correct']*100"
   ]
  },
  {
   "cell_type": "code",
   "execution_count": 6,
   "id": "2e102aba",
   "metadata": {
    "scrolled": false
   },
   "outputs": [],
   "source": [
    "s = subject['responses']\n",
    "\n",
    "l = list(s)\n",
    "l_new = ['missing' if x is np.nan else x for x in l]\n",
    "\n",
    "final_confidence = []\n",
    "\n",
    "for a in l_new:\n",
    "    if type(a)==str:\n",
    "        if 'confidence\":' in a:\n",
    "            final_confidence.append(int(a[-2]))\n",
    "        else:\n",
    "            final_confidence.append(np.nan)\n",
    "    else:\n",
    "        final_confidence.append(np.nan)\n",
    "\n",
    "final_confidence = final_confidence[1:]\n",
    "final_confidence.append(np.nan) #.append(np.nan)\n",
    "\n",
    "subject['Confidence']=final_confidence\n",
    "subject['confidence']=final_confidence"
   ]
  },
  {
   "cell_type": "markdown",
   "id": "af7eef3d",
   "metadata": {},
   "source": [
    "#### Use this code to check if any columns are different between this \"problem subject\" df and the main data df"
   ]
  },
  {
   "cell_type": "code",
   "execution_count": 7,
   "id": "43677de0",
   "metadata": {},
   "outputs": [],
   "source": [
    "# sub_cols = list(subject.columns) \n",
    "# full_cols = list(full_data.columns) \n",
    "\n",
    "# # which columns are in full data that aren't in the html subject\n",
    "# for x in full_cols:\n",
    "#     if x not in sub_cols:\n",
    "#         print(x)"
   ]
  },
  {
   "cell_type": "markdown",
   "id": "7c87d6e6",
   "metadata": {},
   "source": [
    "# Compile data"
   ]
  },
  {
   "cell_type": "markdown",
   "id": "9a213aa2",
   "metadata": {},
   "source": [
    "Add the single subject to the rest of the subject data"
   ]
  },
  {
   "cell_type": "code",
   "execution_count": 8,
   "id": "77ac55c7",
   "metadata": {},
   "outputs": [
    {
     "name": "stdout",
     "output_type": "stream",
     "text": [
      "(71773, 22)\n"
     ]
    }
   ],
   "source": [
    "full_data = pd.concat([full_data,subject])\n",
    "print(full_data.shape)\n",
    "#full_data.to_csv('exps1-6_compiled_data.csv')"
   ]
  },
  {
   "cell_type": "markdown",
   "id": "711e213f",
   "metadata": {},
   "source": [
    "# Make \"location\" df \n",
    "Make a dataframe with the number of attention locations in each video stimulus"
   ]
  },
  {
   "cell_type": "code",
   "execution_count": 9,
   "id": "cc93690d",
   "metadata": {},
   "outputs": [],
   "source": [
    "image_csv = []\n",
    "\n",
    "for x in os.listdir('/Users/kirstenziman/Desktop/Desktop/DIDEC_entire_corpus/analysis_3/stim_sets/STIM_SET_1'):\n",
    "    if x[-3:]=='csv':\n",
    "        image_csv.append(x)\n",
    "        \n",
    "dfs = [pd.read_csv('/Users/kirstenziman/Desktop/Desktop/DIDEC_entire_corpus/analysis_3/stim_sets/STIM_SET_1'+'/'+x) for x in image_csv if 'veridical' in x]\n",
    "\n",
    "# dataframe with relevant metadata for videos in this stim set\n",
    "blob_df = pd.concat(dfs)"
   ]
  },
  {
   "cell_type": "markdown",
   "id": "cafa8cda",
   "metadata": {},
   "source": [
    "# Figure 2: Experiment 1 Figure & Statistics"
   ]
  },
  {
   "cell_type": "code",
   "execution_count": 10,
   "id": "dcd7dfc9",
   "metadata": {},
   "outputs": [
    {
     "data": {
      "text/plain": [
       "array(['zj41psak', '4hptnk60', 'y7ysemqr', 'vlorxxl6', 'd9jc26z3',\n",
       "       'yufk5om2', 'cofr3f5u', 'eoycy3ot', 'k61ukkxc', 'dhxxfzr9',\n",
       "       'xvd3jtq6', 'zynxvp2b', 'qj02trg4', 'rneumf3l', 'smd3gjzv',\n",
       "       'e1pueloc', '51yo2pet', 'e3gaamyz', 'yo2qhtaz', 'j058zhu1'],\n",
       "      dtype=object)"
      ]
     },
     "execution_count": 10,
     "metadata": {},
     "output_type": "execute_result"
    }
   ],
   "source": [
    "full_data[full_data['version']=='Mismatched Image']['ID'].unique()"
   ]
  },
  {
   "cell_type": "code",
   "execution_count": 11,
   "id": "61b941e9",
   "metadata": {},
   "outputs": [],
   "source": [
    "# prop_corr_list = list(this_data['proportion_correct'])\n",
    "# prop_corr_shifted = prop_corr_list[2:]+[np.nan,np.nan]\n",
    "# this_data['proportion_correct_shifted'] = prop_corr_shifted\n",
    "\n",
    "# # drop any rows where there is not a shifted proportion correct\n",
    "# this_data = this_data.dropna(subset = ['proportion_correct_shifted'])"
   ]
  },
  {
   "cell_type": "code",
   "execution_count": 12,
   "id": "b89be10f",
   "metadata": {},
   "outputs": [
    {
     "name": "stdout",
     "output_type": "stream",
     "text": [
      "\n",
      "########## Scrambled Order versus Veridical (Image) #############\n",
      "\n"
     ]
    },
    {
     "data": {
      "image/png": "[encoded data removed]",
      "text/plain": [
       "<Figure size 1440x360 with 4 Axes>"
      ]
     },
     "metadata": {},
     "output_type": "display_data"
    },
    {
     "name": "stdout",
     "output_type": "stream",
     "text": [
      "\n",
      "\n",
      "################# SUMMARY STATS ##################\n",
      "\n",
      "Mean: 63.92857142857142\n",
      "Standard Error: 1.9878119498616784\n",
      "\n",
      "Mean t-test: TtestResult(statistic=7.006986465465527, pvalue=1.1313134375508361e-06, df=19)\n",
      "\n",
      "\n",
      "\n",
      "################# LOCATIONS ANOVA ################\n",
      "\n",
      "            Source  ddof1  ddof2         F    p-unc  p-GG-corr       np2  \\\n",
      "0  Number of blobs      8    152  2.025249  0.04696   0.126068  0.096325   \n",
      "\n",
      "        eps  sphericity   W-spher       p-spher  \n",
      "0  0.346112       False  0.002416  1.722102e-07  \n",
      "\n",
      "\n",
      "\n",
      "########### CONFIDENCE SUMMARY STATS ############\n",
      "\n",
      "Confidence of 1, Mean: 62.40627044043998\n",
      "Conf 1, t-test: TtestResult(statistic=3.5446437510857565, pvalue=0.0026968539792182364, df=16)\n",
      "Conf 1, Standard Error: 0.03500004883887084\n",
      "\n",
      "Confidence of 4, Mean: 85.03579647451438\n",
      "Conf 4 t-test: TtestResult(statistic=7.9117805951798355, pvalue=6.401549594904082e-07, df=16)\n",
      "Conf 4, Standard Error: 0.044283073895981837\n",
      "\n",
      "\n",
      "\n",
      "################# CONFIDENCE ANOVA ###############\n",
      "\n",
      "       Source  ddof1  ddof2         F     p-unc       np2       eps\n",
      "0  confidence      3     42  9.967864  0.000044  0.415885  0.907023\n",
      "\n",
      "\n",
      "\n",
      "################ LOCATION ANALYSIS ################\n",
      "\n",
      "Mean percent accuracy for 6 blobs: \n",
      "0.5\n",
      "Mean percent accuracy for best blobs 12 : \n",
      "0.7291666666666667\n",
      "\n",
      "BLOB ANOVA:\n",
      "            Source  ddof1  ddof2         F    p-unc  p-GG-corr       np2  \\\n",
      "0  Number of blobs      8    152  2.025249  0.04696   0.126068  0.096325   \n",
      "\n",
      "        eps  sphericity   W-spher       p-spher  \n",
      "0  0.346112       False  0.002416  1.722102e-07  \n",
      "\n",
      "\n",
      "\n"
     ]
    }
   ],
   "source": [
    "sb.set(font_scale=2)\n",
    "sb.set_style(\"white\")\n",
    "\n",
    "full_data['Percent Correct'] = full_data['proportion_correct']*100\n",
    "full_data['Confidence']      = full_data['confidence']+1\n",
    "\n",
    "#for x in full_data['version'].unique():\n",
    "    \n",
    "for x in ['Scrambled Order versus Veridical (Image)']:\n",
    "    \n",
    "    print(); print('########## '+x+' #############'); print()\n",
    "    \n",
    "    if x in ['Scrambled Order versus Veridical (Image)']:\n",
    "    #if x not in ['ForwardReverse_full_image','ForwardReverse_blobbified_black']:\n",
    "        \n",
    "        # get the data for this version\n",
    "        this_data = full_data[full_data['version'] == x]\n",
    "        mean_plot = this_data.groupby('ID', as_index=False).mean()\n",
    "        conf_plot = this_data.groupby(['ID','confidence'], as_index=False).mean()\n",
    "        \n",
    "        conf_plot['Confidence'] = conf_plot['Confidence'].astype(int)\n",
    "                \n",
    "        # make the subplots        \n",
    "        fig, (ax1, ax2, ax3, ax4) = plt.subplots(1, 4, gridspec_kw={'width_ratios':[1, 5, 6, 7]}, figsize=(20,5))\n",
    "        \n",
    "        # SUBPLOT 1\n",
    "        # horizontal lines\n",
    "        ax1.hlines(50, -.56, 4.5, colors='k', linestyles='dotted')     \n",
    "        # plot data for subplot 1\n",
    "        ax1 = sb.violinplot(data= mean_plot,y=\"Percent Correct\",ax=ax1,inner=None, color='k')  \n",
    "        ax1 = sb.swarmplot(data= mean_plot,y=\"Percent Correct\",color=\"w\",ax=ax1, linewidth=1)\n",
    "        ax1.set(ylim=(-50,150));#ax1.set(ylabel='');\n",
    "        ax1.set_title(\"A.  Mean     \")\n",
    "        ax1.set(yticklabels=[' ','0','50','100',' ',' '])\n",
    "        \n",
    "        # SUBPLOT 2\n",
    "        # horizontal lines\n",
    "        ax2.hlines(50, -.5, 4.5, colors='k', linestyles='dotted')\n",
    "        # plot data for subplot 2\n",
    "        ax2 = sb.violinplot( data= conf_plot,x=\"Confidence\",y=\"Percent Correct\",inner=None,ax=ax2, color='k') #linewidth=3,palette='Reds')\n",
    "        ax2 = sb.swarmplot(  data= conf_plot,x=\"Confidence\",y=\"Percent Correct\",color=\"w\",ax=ax2, linewidth=1)\n",
    "        ax2.set(ylim=(-50,150));ax2.set(ylabel='');\n",
    "        ax2.set(ylabel=None); \n",
    "        ax2.set_title(\"B. Percent Correct\\nby Confidence\")\n",
    "        ax2.set(yticklabels=[])\n",
    "         \n",
    "        dfs = [pd.read_csv('/Users/kirstenziman/Desktop/Desktop/DIDEC_entire_corpus/analysis_3/stim_sets/STIM_SET_1'+'/'+x) for x in image_csv if 'veridical' in x]\n",
    "        blob_df = pd.concat(dfs)\n",
    "        \n",
    "        # shift the proportion correct values so that they line up in the df to be in same row as images\n",
    "        prop_corr_list = list(this_data['proportion_correct'])\n",
    "        prop_corr_shifted = prop_corr_list[2:]+[np.nan,np.nan]\n",
    "        this_data['proportion_correct_shifted'] = prop_corr_shifted\n",
    "        \n",
    "        # drop any rows where there is not a shifted proportion correct\n",
    "        this_data = this_data.dropna(subset = ['proportion_correct_shifted'])\n",
    "        this_data['Number of blobs'] = np.nan\n",
    "        this_data = this_data[this_data['image'].notna()]\n",
    "        \n",
    "        for image in blob_df['image'].unique():\n",
    "            this_data.loc[this_data['image'].str.contains(image[:-4]),'Number of blobs']=int(blob_df[blob_df['image']==image]['num_chunks'].item()) \n",
    "        \n",
    "        this_data['Number of blobs'] = this_data['Number of blobs'].astype(int)\n",
    "            \n",
    "        this_data['Percent correct'] = this_data['proportion_correct_shifted']*100\n",
    "        \n",
    "        # SUBPLOT 3\n",
    "        p   = this_data.groupby(['ID','Number of blobs'],as_index=False).mean() #columns\n",
    "        ax3.set_title(\"C. Percent Correct\\n by Number of Locations\")\n",
    "        ax3 = sb.violinplot(x='Number of blobs', y='Percent correct', data=p[p['Number of blobs'].isin([7, 8, 9, 10, 11, 12])], ax=ax3,\n",
    "                           inner=None, color = 'k') #, linewidth=3)\n",
    "        ax3 = sb.swarmplot(x='Number of blobs', y='Percent correct', data=p[p['Number of blobs'].isin([7, 8, 9, 10, 11, 12])], ax=ax3,\n",
    "                   color = 'white', linewidth=1)\n",
    "#         ax3 = sb.regplot(x='Number of blobs', y='Percent correct', data=p[p['Number of blobs'].isin([7, 8, 9, 10, 11, 12])], ax=ax3,\n",
    "#            color = 'grey')#, linewidth=1)\n",
    "        ax3.hlines(50, -.5, 5.5, colors='k', linestyles='dotted')\n",
    "        ax3.set(ylabel='');\n",
    "        ax3.set(ylim=(-50,150))\n",
    "        ax3.set(ylabel=None);\n",
    "        ax3.set(xlabel='Number of Locations');\n",
    "        ax3.set(yticklabels=[])\n",
    "        \n",
    "        this_data['unique_image_label'] = list([x[0:30] for x in list(this_data['image'])])\n",
    "        \n",
    "        # SUBPLOT 4 \n",
    "        # We will want to plot this_data['proportion_correct_shifted'] x this_data['image']\n",
    "        ax4.set_title(\"D. Percent Correct by Stimulus\")\n",
    "        p2  = this_data.groupby(['ID','unique_image_label'],as_index=False).mean() #columns\n",
    "        ax4 = sb.barplot(x='unique_image_label',y='Percent correct', data=p2,  color = 'k', ci=None, ax=ax4) \n",
    "        #p2  = this_data.groupby(['ID','image'],as_index=False).mean() #columns\n",
    "        #ax4 = sb.barplot(x='image',y='Percent correct', data=p2[p2['image'].str.contains('veridical')],  color = 'k', ci=None, ax=ax4) \n",
    "        ax4.set(ylabel='');\n",
    "        ax4.set(ylabel=None);\n",
    "        ax4.hlines(50, -1.5, 70, colors='k', linestyles='dotted')\n",
    "        ax4.set(ylim=(-50,150))\n",
    "        ax4.set(yticklabels=[])\n",
    "        ax4.set(xticklabels=[])\n",
    "        ax4.set(xlabel='Video Pair')\n",
    "        \n",
    "        #f.tight_layout()\n",
    "        plt.ylabel = \" \"\n",
    "        plt.savefig('figures/figure_2.pdf',bbox_inches='tight')\n",
    "        plt.show()\n",
    "        \n",
    "        \n",
    "        # Stats ##########################################################\n",
    "        print();print()\n",
    "        print('################# SUMMARY STATS ##################'); print()\n",
    "        print('Mean: '+str(mean_plot['Percent Correct'].mean()))\n",
    "        print('Standard Error: '+str(scipy.stats.sem(mean_plot['Percent Correct'])))\n",
    "        print()\n",
    "        print('Mean t-test: '+str(stats.ttest_1samp(a=list(mean_plot['proportion_correct']), popmean=.5)))\n",
    "        print();print();print()\n",
    "        \n",
    "        print('################# LOCATIONS ANOVA ################');print()\n",
    "        print(pg.rm_anova(data=p, dv='Percent correct', within ='Number of blobs',\n",
    "                         subject='ID'))\n",
    "        print();print();print()\n",
    "        \n",
    "        print('########### CONFIDENCE SUMMARY STATS ############');print()\n",
    "        print('Confidence of 1, Mean: '+str(conf_plot[conf_plot['confidence']==0]['Percent Correct'].mean()))\n",
    "        print('Conf 1, t-test: ' +str(stats.ttest_1samp(a=list(conf_plot[conf_plot['confidence']==0]['proportion_correct']), popmean=.5)))\n",
    "        print('Conf 1, Standard Error: '+str(scipy.stats.sem(list(conf_plot[conf_plot['confidence']==0]['proportion_correct']))))\n",
    "        print()\n",
    "        print('Confidence of 4, Mean: '+str(conf_plot[conf_plot['confidence']==3]['Percent Correct'].mean()))\n",
    "        print('Conf 4 t-test: ' +str(stats.ttest_1samp(a=list(conf_plot[conf_plot['confidence']==3]['proportion_correct']), popmean=.5)))\n",
    "        print('Conf 4, Standard Error: '+str(scipy.stats.sem(list(conf_plot[conf_plot['confidence']==3]['proportion_correct']))))\n",
    "        print();print();print()\n",
    "        \n",
    "        print('################# CONFIDENCE ANOVA ###############');print()\n",
    "        print(pg.rm_anova(data=conf_plot, dv='Percent Correct', within ='confidence',\n",
    "                         subject='ID'))\n",
    "        print(); print();print()\n",
    "        \n",
    "        print('################ LOCATION ANALYSIS ################');print()\n",
    "        print('Mean percent accuracy for 6 blobs: ')\n",
    "        print(str(p[p['Number of blobs']==6]['proportion_correct_shifted'].mean()))\n",
    "        \n",
    "        big_mean  = 0\n",
    "        big_blobs = 0\n",
    "        \n",
    "        for b in p['Number of blobs'].unique():\n",
    "            m = p[p['Number of blobs']==b]['proportion_correct_shifted'].mean()\n",
    "            if m > big_mean:\n",
    "                big_mean  = m\n",
    "                big_blobs = b\n",
    "                \n",
    "        print('Mean percent accuracy for best blobs '+str(big_blobs)+' : ')\n",
    "        print(str(p[p['Number of blobs']==big_blobs]['proportion_correct_shifted'].mean()))\n",
    "        print()\n",
    "        print('BLOB ANOVA:')\n",
    "        print(pg.rm_anova(data=p, dv='Percent correct', within ='Number of blobs',\n",
    "                         subject='ID'))\n",
    "        print(); print(); print()\n",
    "        \n",
    "        "
   ]
  },
  {
   "cell_type": "code",
   "execution_count": 13,
   "id": "cec240ba",
   "metadata": {},
   "outputs": [
    {
     "data": {
      "text/plain": [
       "(55, 13)"
      ]
     },
     "execution_count": 13,
     "metadata": {},
     "output_type": "execute_result"
    }
   ],
   "source": [
    "# sb.barplot(x='unique_image_label',y='Percent correct', data=p2,  color = 'k', ci=None) \n",
    "g = p2.groupby('unique_image_label',as_index=False).mean()\n",
    "g[g['Percent correct']>50].shape"
   ]
  },
  {
   "cell_type": "markdown",
   "id": "2f144176",
   "metadata": {},
   "source": [
    "### Regression analysis, Plot 2c\n",
    "\n",
    "Regression analysis for the proportion correct trials by the number of attention locations"
   ]
  },
  {
   "cell_type": "markdown",
   "id": "0a98a420",
   "metadata": {},
   "source": [
    "### Linear regression w/ random effects (individual subjects)\n",
    "\n",
    "Individual intercept for each subject"
   ]
  },
  {
   "cell_type": "code",
   "execution_count": 14,
   "id": "fc63d7d0",
   "metadata": {},
   "outputs": [],
   "source": [
    "dat   = p[p['Number of blobs'].isin([7, 8, 9, 10, 11, 12])]\n",
    "dat['Percent_correct'] = dat['Percent correct']\n",
    "dat['Number_of_blobs'] = dat['Number of blobs']"
   ]
  },
  {
   "cell_type": "code",
   "execution_count": 15,
   "id": "2d9540c0",
   "metadata": {},
   "outputs": [
    {
     "name": "stdout",
     "output_type": "stream",
     "text": [
      "            Mixed Linear Model Regression Results\n",
      "=============================================================\n",
      "Model:            MixedLM Dependent Variable: Percent_correct\n",
      "No. Observations: 120     Method:             REML           \n",
      "No. Groups:       20      Scale:              309.4439       \n",
      "Min. group size:  6       Log-Likelihood:     -515.5073      \n",
      "Max. group size:  6       Converged:          Yes            \n",
      "Mean group size:  6.0                                        \n",
      "-------------------------------------------------------------\n",
      "                    Coef.  Std.Err.   z   P>|z| [0.025 0.975]\n",
      "-------------------------------------------------------------\n",
      "Intercept           33.902    9.159 3.701 0.000 15.950 51.853\n",
      "Number_of_blobs      3.018    0.940 3.210 0.001  1.175  4.861\n",
      "Group Var           30.364    1.671                          \n",
      "=============================================================\n",
      "\n"
     ]
    }
   ],
   "source": [
    "# Model with individual intercept for each subject\n",
    "model = sm.MixedLM.from_formula(\"Percent_correct ~ Number_of_blobs\", dat, groups=dat[\"ID\"])\n",
    "result = model.fit()\n",
    "print(result.summary())"
   ]
  },
  {
   "cell_type": "markdown",
   "id": "be3c7505",
   "metadata": {},
   "source": [
    "### F-test of the model"
   ]
  },
  {
   "cell_type": "code",
   "execution_count": 16,
   "id": "a1e8816a",
   "metadata": {},
   "outputs": [
    {
     "data": {
      "text/plain": [
       "<class 'statsmodels.stats.contrast.ContrastResults'>\n",
       "<F test: F=5.683996136878103, p=0.0043979975094897965, df_denom=118, df_num=2>"
      ]
     },
     "execution_count": 16,
     "metadata": {},
     "output_type": "execute_result"
    }
   ],
   "source": [
    "A = np.identity(len(result.params))\n",
    "A = A[1:,:]\n",
    "\n",
    "# compare our model to a model with \n",
    "result.f_test(A)"
   ]
  },
  {
   "cell_type": "markdown",
   "id": "36f50c2c",
   "metadata": {},
   "source": [
    "# Figure 3: Experiments 1-6 Figure & Statistics"
   ]
  },
  {
   "cell_type": "code",
   "execution_count": 17,
   "id": "e437fc57",
   "metadata": {},
   "outputs": [
    {
     "name": "stdout",
     "output_type": "stream",
     "text": [
      "\n",
      "\n"
     ]
    },
    {
     "data": {
      "image/png": "[encoded data removed]",
      "text/plain": [
       "<Figure size 432x288 with 1 Axes>"
      ]
     },
     "metadata": {},
     "output_type": "display_data"
    },
    {
     "name": "stdout",
     "output_type": "stream",
     "text": [
      "\n",
      "\n",
      "###################################################\n",
      "\n",
      "Experiment 6\n",
      "\n",
      "# Version: Experiment 6 ####\n",
      "Mean: 50.5\n",
      "Standard Error: 1.146024745591497\n",
      "\n",
      "Mean t-test: TtestResult(statistic=0.43629075368868736, pvalue=0.6675430482825779, df=19)\n",
      "\n",
      "\n",
      "###################################################\n",
      "\n",
      "Experiment 3\n",
      "\n",
      "# Version: Experiment 3 ####\n",
      "Mean: 76.14285714285715\n",
      "Standard Error: 2.249477800721725\n",
      "\n",
      "Mean t-test: TtestResult(statistic=11.621744893178965, pvalue=4.44158418604534e-10, df=19)\n",
      "\n",
      "\n",
      "###################################################\n",
      "\n",
      "Experiment 5\n",
      "\n",
      "# Version: Experiment 5 ####\n",
      "Mean: 55.42857142857143\n",
      "Standard Error: 1.3215555720316023\n",
      "\n",
      "Mean t-test: TtestResult(statistic=4.107713321677564, pvalue=0.0005991017148643611, df=19)\n",
      "\n",
      "\n",
      "###################################################\n",
      "\n",
      "Experiment 4\n",
      "\n",
      "# Version: Experiment 4 ####\n",
      "Mean: 67.85714285714286\n",
      "Standard Error: 1.6791512356486693\n",
      "\n",
      "Mean t-test: TtestResult(statistic=10.634624492441565, pvalue=1.935931660651474e-09, df=19)\n",
      "\n",
      "\n",
      "###################################################\n",
      "\n",
      "Experiment 2\n",
      "\n",
      "# Version: Experiment 2 ####\n",
      "Mean: 67.64285714285715\n",
      "Standard Error: 2.9098060070949554\n",
      "\n",
      "Mean t-test: TtestResult(statistic=6.0632417074673395, pvalue=7.85319338767109e-06, df=19)\n",
      "\n",
      "\n",
      "###################################################\n",
      "\n",
      "Experiment 1\n",
      "\n",
      "# Version: Experiment 1 ####\n",
      "Mean: 63.92857142857142\n",
      "Standard Error: 1.9878119498616784\n",
      "\n",
      "Mean t-test: TtestResult(statistic=7.006986465465527, pvalue=1.1313134375508361e-06, df=19)\n",
      "\n"
     ]
    }
   ],
   "source": [
    "mean_plot = full_data.groupby(['version','ID'], as_index=False).mean()\n",
    "\n",
    "mean_plot['Experiment']   = np.nan\n",
    "mean_plot.loc[mean_plot['version']=='Scrambled Order versus Veridical (Image)','Experiment'] = 'Experiment 1'\n",
    "mean_plot.loc[mean_plot['version']=='Scrambled Order versus Veridical (Black)','Experiment'] = 'Experiment 2'\n",
    "mean_plot.loc[mean_plot['version']=='Mismatched Image','Experiment'] = 'Experiment 3'\n",
    "mean_plot.loc[mean_plot['version']=='Reverse Order versus Veridical (Image)','Experiment']   = 'Experiment 4'\n",
    "mean_plot.loc[mean_plot['version']=='Reverse Order versus Veridical (Black)','Experiment']   = 'Experiment 5'\n",
    "\n",
    "mean_plot.loc[mean_plot['version']=='Horizontal Flip versus Veridical (Black)','Experiment'] = 'Experiment 6'\n",
    "\n",
    "exp_list = ['Experiment 1','Experiment 2','Experiment 3','Experiment 4','Experiment 5','Experiment 6']\n",
    "\n",
    "ax1 = sb.violinplot(data=mean_plot[mean_plot['Experiment'].isin(exp_list)],\n",
    "              x='Experiment',y='Percent Correct',\n",
    "             order = exp_list, inner=None, color='k')\n",
    "ax1 = sb.swarmplot(data=mean_plot[mean_plot['Experiment'].isin(exp_list)],\n",
    "              x='Experiment',y='Percent Correct',\n",
    "             order = exp_list, color='white', linewidth=1) #linewidth=1\n",
    "\n",
    "ax1.set_xticklabels(['1','2','3','4','5','6'])\n",
    "\n",
    "ax1.hlines(50, -.5, 5.6, colors='k', linestyles='dotted')\n",
    "ax1.set_ylim(0,115)\n",
    "\n",
    "plt.savefig('figures/figure_3.pdf',bbox_inches='tight')\n",
    "print(); print(); plt.show(); print()\n",
    "\n",
    "# Stats for each experiment version\n",
    "for e in mean_plot['Experiment'].unique():\n",
    "    if type(e)==str:\n",
    "\n",
    "        # Stats \n",
    "        print()\n",
    "        print('###################################################')\n",
    "        print()\n",
    "        print(e)\n",
    "        print()\n",
    "        print('# Version: '+e+' ####')\n",
    "        print('Mean: '+str(mean_plot[mean_plot['Experiment']==e]['Percent Correct'].mean()))\n",
    "        print('Standard Error: '+str(scipy.stats.sem(mean_plot[mean_plot['Experiment']==e]['Percent Correct'])))\n",
    "        print()\n",
    "        print('Mean t-test: '+str(stats.ttest_1samp(a=list(mean_plot[mean_plot['Experiment']==e]['proportion_correct']), popmean=.5)))\n",
    "        print()"
   ]
  },
  {
   "cell_type": "markdown",
   "id": "cbb6e62a",
   "metadata": {},
   "source": [
    "# Checks"
   ]
  },
  {
   "cell_type": "markdown",
   "id": "d90553e3",
   "metadata": {},
   "source": [
    "### Average Performance for Experiment 6"
   ]
  },
  {
   "cell_type": "code",
   "execution_count": 18,
   "id": "ccbd761f",
   "metadata": {},
   "outputs": [
    {
     "data": {
      "text/plain": [
       "trial_index              299.500000\n",
       "time_elapsed          842451.856750\n",
       "value                           NaN\n",
       "correct_answer             0.493571\n",
       "proportion_correct         0.505000\n",
       "confidence                 0.952857\n",
       "Unnamed: 0                      NaN\n",
       "Percent Correct           50.500000\n",
       "Confidence                 1.952857\n",
       "dtype: float64"
      ]
     },
     "execution_count": 18,
     "metadata": {},
     "output_type": "execute_result"
    }
   ],
   "source": [
    "mean_plot[mean_plot['Experiment']=='Experiment 6'].mean()"
   ]
  },
  {
   "cell_type": "markdown",
   "id": "00500c9f",
   "metadata": {},
   "source": [
    "### Check Number of Participants per Experiment"
   ]
  },
  {
   "cell_type": "code",
   "execution_count": 19,
   "id": "996657a9",
   "metadata": {},
   "outputs": [
    {
     "name": "stdout",
     "output_type": "stream",
     "text": [
      "20\n",
      "20\n",
      "20\n",
      "20\n",
      "20\n",
      "20\n"
     ]
    }
   ],
   "source": [
    "g = mean_plot.groupby(['Experiment','ID'],as_index=False).mean()\n",
    "\n",
    "for e in g['Experiment'].unique():\n",
    "    print(len(g[g['Experiment']==e]['ID'].unique()))"
   ]
  },
  {
   "cell_type": "markdown",
   "id": "b7263544",
   "metadata": {},
   "source": [
    "### Check how many participants gave  lowest & highest rating (Exp1)"
   ]
  },
  {
   "cell_type": "code",
   "execution_count": 20,
   "id": "778772c1",
   "metadata": {},
   "outputs": [],
   "source": [
    "# this_data = full_data[full_data['version'] == 'Scrambled Order versus Veridical (Image)']\n",
    "# c = this_data.groupby(['confidence','ID'],as_index=False).count()\n",
    "\n",
    "# low_rating = list(c[c['confidence']==0.0]['ID'])\n",
    "# high_rating = list(c[c['confidence']==3.0]['ID'])"
   ]
  },
  {
   "cell_type": "code",
   "execution_count": 21,
   "id": "17c55343",
   "metadata": {},
   "outputs": [],
   "source": [
    "# print(len(low_rating)==len(high_rating))\n",
    "# print(len(low_rating)); print()\n",
    "\n",
    "# print()\n",
    "\n",
    "\n",
    "# for x in low_rating:\n",
    "#     if x not in high_rating:\n",
    "#         print('in low, but not high: ')\n",
    "#         print(x)\n",
    "\n",
    "# print()\n",
    "\n",
    "# for x in high_rating:\n",
    "#     if x not in low_rating:\n",
    "#         print('in high, but not low: ')\n",
    "#         print(x)"
   ]
  },
  {
   "cell_type": "code",
   "execution_count": 22,
   "id": "6e0bf08e",
   "metadata": {},
   "outputs": [],
   "source": [
    "# this_data = full_data[full_data['version']=='Scrambled Order versus Veridical (Image)']\n",
    "# prop_corr_list = list(this_data['proportion_correct'])\n",
    "# prop_corr_shifted = prop_corr_list[2:]+[np.nan,np.nan]\n",
    "# this_data['proportion_correct_shifted'] = prop_corr_shifted\n",
    "# this_data['Percent correct'] = this_data['proportion_correct_shifted']*100\n",
    "# p2  = this_data.groupby(['ID','image'],as_index=False).mean()"
   ]
  },
  {
   "cell_type": "code",
   "execution_count": 23,
   "id": "e314fdc7",
   "metadata": {},
   "outputs": [],
   "source": [
    "# sb.barplot(x='image',y='Percent correct', data=p2[p2['image'].str.contains('veridical')], palette='magma', ci=None)\n",
    "# ax.set(ylabel='');\n",
    "# ax.set(ylabel=None);\n",
    "# ax.hlines(50, -1.5, 70, colors='k', linestyles='dotted')\n",
    "# ax.set(ylim=(-50,150))\n",
    "# ax.set(yticklabels=[])\n",
    "# ax.set(xticklabels=[])\n",
    "# ax.set(xlabel='Video Pair')\n",
    "# plt.ylim(-50,200)\n",
    "# plt.show()"
   ]
  }
 ],
 "metadata": {
  "kernelspec": {
   "display_name": "Python 3 (ipykernel)",
   "language": "python",
   "name": "python3"
  },
  "language_info": {
   "codemirror_mode": {
    "name": "ipython",
    "version": 3
   },
   "file_extension": ".py",
   "mimetype": "text/x-python",
   "name": "python",
   "nbconvert_exporter": "python",
   "pygments_lexer": "ipython3",
   "version": "3.9.6"
  }
 },
 "nbformat": 4,
 "nbformat_minor": 5
}
