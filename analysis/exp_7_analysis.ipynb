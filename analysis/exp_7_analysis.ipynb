{
 "cells": [
  {
   "cell_type": "markdown",
   "id": "73a9cdbe",
   "metadata": {},
   "source": [
    "# Learning analysis"
   ]
  },
  {
   "cell_type": "code",
   "execution_count": 1,
   "id": "933818b4",
   "metadata": {},
   "outputs": [
    {
     "name": "stderr",
     "output_type": "stream",
     "text": [
      "/usr/local/lib/python3.9/site-packages/outdated/utils.py:14: OutdatedPackageWarning: The package outdated is out of date. Your version is 0.2.1, the latest is 0.2.2.\n",
      "Set the environment variable OUTDATED_IGNORE=1 to disable these warnings.\n",
      "  return warn(\n",
      "/usr/local/lib/python3.9/site-packages/outdated/utils.py:14: OutdatedPackageWarning: The package pingouin is out of date. Your version is 0.5.0, the latest is 0.5.3.\n",
      "Set the environment variable OUTDATED_IGNORE=1 to disable these warnings.\n",
      "  return warn(\n"
     ]
    }
   ],
   "source": [
    "import pandas as pd\n",
    "import seaborn as sb\n",
    "import os\n",
    "import math\n",
    "from matplotlib import pyplot as plt\n",
    "import scipy\n",
    "import pingouin as pg\n",
    "import scipy.stats as stats\n",
    "import statsmodels\n",
    "import numpy as np\n",
    "from math import sqrt\n",
    "from statsmodels.stats.power import TTestIndPower\n",
    "from scipy.stats import binom_test\n",
    "from analysis_helpers import *\n",
    "from  matplotlib.ticker import FuncFormatter\n",
    "from statannotations.Annotator import Annotator\n",
    "import pingouin as pg\n",
    "import scipy\n",
    "from scipy import stats\n",
    "from itertools import combinations\n",
    "import warnings\n",
    "warnings.filterwarnings('ignore')\n",
    "from scipy.optimize import curve_fit"
   ]
  },
  {
   "cell_type": "markdown",
   "id": "b031a105",
   "metadata": {},
   "source": [
    "### Organize data"
   ]
  },
  {
   "cell_type": "code",
   "execution_count": 4,
   "id": "b831b83b",
   "metadata": {},
   "outputs": [],
   "source": [
    "learning_data = os.listdir('exp7_data')\n",
    "learning_data = [x for x in learning_data if 'LEARNING.csv' in x]"
   ]
  },
  {
   "cell_type": "code",
   "execution_count": 14,
   "id": "5ea5e244",
   "metadata": {},
   "outputs": [],
   "source": [
    "data = []\n",
    "\n",
    "path = 'exp7_data'\n",
    "\n",
    "for x in learning_data:\n",
    "    data.append(pd.read_csv(path+'/'+x))\n",
    "\n",
    "data = pd.concat(data)\n",
    "data['version'] = 'learning'\n",
    "#data.to_csv('exp7_compiled_data.csv')"
   ]
  },
  {
   "cell_type": "code",
   "execution_count": 6,
   "id": "f522e31d",
   "metadata": {},
   "outputs": [],
   "source": [
    "data_corr = data[data['correct'].notna()]"
   ]
  },
  {
   "cell_type": "code",
   "execution_count": 7,
   "id": "2b82e5b1",
   "metadata": {},
   "outputs": [],
   "source": [
    "data_corr['Block Number'] = [\n",
    "                     1,1,1,1,1,1,1,1,1,1,\n",
    "                     2,2,2,2,2,2,2,2,2,2,\n",
    "                     3,3,3,3,3,3,3,3,3,3,\n",
    "                     4,4,4,4,4,4,4,4,4,4,\n",
    "                     5,5,5,5,5,5,5,5,5,5,\n",
    "                     6,6,6,6,6,6,6,6,6,6,\n",
    "                     7,7,7,7,7,7,7,7,7,7]*len(data['ID'].unique())\n",
    "data_corr['Trial Number'] = list(range(0,70))*len(data['ID'].unique())"
   ]
  },
  {
   "cell_type": "code",
   "execution_count": 8,
   "id": "f190217d",
   "metadata": {},
   "outputs": [],
   "source": [
    "data_corr['Correct Trials'] = np.nan\n",
    "data_corr.loc[data_corr['correct']==True,'Correct Trials']=1\n",
    "data_corr.loc[data_corr['correct']==False,'Correct Trials']=0\n",
    "data_corr['Proportion Correct'] = data_corr['Correct Trials']/10"
   ]
  },
  {
   "cell_type": "code",
   "execution_count": 9,
   "id": "6a4ce569",
   "metadata": {},
   "outputs": [],
   "source": [
    "grp = data_corr.groupby(['ID','Block Number'], as_index=False).sum()"
   ]
  },
  {
   "cell_type": "markdown",
   "id": "ad0fb6af",
   "metadata": {},
   "source": [
    "### Figure 4"
   ]
  },
  {
   "cell_type": "markdown",
   "id": "7f7d8289",
   "metadata": {},
   "source": [
    "Plot proportion correct by block number"
   ]
  },
  {
   "cell_type": "code",
   "execution_count": 11,
   "id": "dee05f90",
   "metadata": {},
   "outputs": [
    {
     "data": {
      "image/png": "[encoded data removed]",
      "text/plain": [
       "<Figure size 720x360 with 2 Axes>"
      ]
     },
     "metadata": {
      "needs_background": "light"
     },
     "output_type": "display_data"
    }
   ],
   "source": [
    "sb.set(font_scale=2)\n",
    "sb.set_style(\"white\")\n",
    "\n",
    "# MAKE SUBPLOTS      \n",
    "fig, (ax1, ax2) = plt.subplots(1, 2, gridspec_kw={'width_ratios':[1, 4]}, figsize=(10,5))\n",
    "\n",
    "# SET STANDARD Y AXIS VALUES\n",
    "y_ax = (0,77)\n",
    "\n",
    "# PREP DATA (PROPORTION --> PERCENTAGE)\n",
    "grp['Percent Correct'] = grp['Proportion Correct']*100\n",
    "\n",
    "\n",
    "# SUBPLOT 1 ################\n",
    "\n",
    "# horizontal lines\n",
    "ax1.hlines(50, -.5, 4.5, colors='k', linestyles='dotted')\n",
    "\n",
    "# barplot (blockwise)\n",
    "ax1 = sb.barplot(y='Percent Correct', data=grp, ax=ax1, facecolor='grey', #edgecolor=\"White\", facecolor=(.3,.3,.3,.3),\n",
    "                errorbar='se') #color='Gray', \n",
    "\n",
    "# titles and labeling\n",
    "ax1.set_title(\"A. Mean\")\n",
    "ax1.set_ylim(y_ax)\n",
    "ax1.set_yticks([0, 25, 50, 75])\n",
    "\n",
    "\n",
    "\n",
    "# SUBPLOT 2 ################\n",
    "\n",
    "# horizontal lines\n",
    "ax2.hlines(50, -.56, 7, colors='k', linestyles='dotted')  \n",
    "\n",
    "# barplot (mean)\n",
    "ax2 = sb.barplot(x='Block Number', y='Percent Correct', data=grp, color='grey', #palette='Greens',\n",
    "                errorbar='se')#.set(title='Learning Experiment, Image')\n",
    "\n",
    "# titles and labeling\n",
    "ax2.set_title(\"B. Percent Correct by Block Number\")\n",
    "ax2.set(ylabel='');\n",
    "ax2.set_ylim(y_ax)\n",
    "ax2.set(yticklabels=[])\n",
    "\n",
    "\n",
    "\n",
    "# SHOW THE PLOT ############\n",
    "plt.savefig('figures/figure_4.pdf', bbox_inches='tight')\n",
    "plt.show()\n"
   ]
  },
  {
   "cell_type": "markdown",
   "id": "6b5201c6",
   "metadata": {},
   "source": [
    "### Average stats"
   ]
  },
  {
   "cell_type": "code",
   "execution_count": 37,
   "id": "64b236e2",
   "metadata": {},
   "outputs": [
    {
     "name": "stdout",
     "output_type": "stream",
     "text": [
      "Mean: 60.2857142857143\n",
      "Standard error: 2.988700524821393\n",
      "TtestResult(statistic=3.4415339376731233, pvalue=0.0027348786136772428, df=19)\n",
      "\n"
     ]
    }
   ],
   "source": [
    "grp_dat = data_corr.groupby(['ID'], as_index=False).sum()\n",
    "grp_dat['Percent Correct'] = grp_dat['Proportion Correct']*100/7\n",
    "\n",
    "print('Mean: '+str(np.mean(grp_dat['Percent Correct'])))\n",
    "print('Standard error: '+str(scipy.stats.sem(grp_dat['Percent Correct'])))\n",
    "print(stats.ttest_1samp(a=list(grp_dat['Percent Correct']), popmean=50))\n",
    "print()\n"
   ]
  },
  {
   "cell_type": "markdown",
   "id": "d2947a71",
   "metadata": {},
   "source": [
    "### Stats for each bin"
   ]
  },
  {
   "cell_type": "code",
   "execution_count": 38,
   "id": "18eb2138",
   "metadata": {},
   "outputs": [
    {
     "name": "stdout",
     "output_type": "stream",
     "text": [
      "BIN 1 ------------------------------------\n",
      "Mean: 54.0\n",
      "Standard error: 4.255027985559524\n",
      "TtestResult(statistic=0.9400643223910574, pvalue=0.35898337240929146, df=19)\n",
      "\n",
      "BIN 2 ------------------------------------\n",
      "Mean: 59.0\n",
      "Standard error: 3.3950428258673973\n",
      "TtestResult(statistic=2.6509238503348174, pvalue=0.015769586469413212, df=19)\n",
      "\n",
      "BIN 3 ------------------------------------\n",
      "Mean: 61.0\n",
      "Standard error: 4.46624768917406\n",
      "TtestResult(statistic=2.4629175911276477, pvalue=0.02350368749035825, df=19)\n",
      "\n",
      "BIN 4 ------------------------------------\n",
      "Mean: 62.5\n",
      "Standard error: 3.618301433429489\n",
      "TtestResult(statistic=3.454659660058306, pvalue=0.0026547455283750655, df=19)\n",
      "\n",
      "BIN 5 ------------------------------------\n",
      "Mean: 62.5\n",
      "Standard error: 3.3146405695434242\n",
      "TtestResult(statistic=3.7711479533727585, pvalue=0.0012921085380986678, df=19)\n",
      "\n",
      "BIN 6 ------------------------------------\n",
      "Mean: 64.0\n",
      "Standard error: 4.129483209670111\n",
      "TtestResult(statistic=3.390254733864968, pvalue=0.00307141528034234, df=19)\n",
      "\n",
      "BIN 7 ------------------------------------\n",
      "Mean: 59.0\n",
      "Standard error: 5.614829987584101\n",
      "TtestResult(statistic=1.6028980432001358, pvalue=0.12545175894951252, df=19)\n",
      "\n"
     ]
    }
   ],
   "source": [
    "for x in range(1,8):\n",
    "    \n",
    "    print('BIN '+str(x)+' ------------------------------------')\n",
    "    print('Mean: '+str(np.mean(grp[grp['Block Number']==x]['Percent Correct'])))\n",
    "    print('Standard error: '+str(scipy.stats.sem(grp[grp['Block Number']==x]['Percent Correct'])))\n",
    "    print(stats.ttest_1samp(a=list(grp[grp['Block Number']==x]['Percent Correct']), popmean=50))\n",
    "    print()\n"
   ]
  },
  {
   "cell_type": "code",
   "execution_count": null,
   "id": "2b3b1a74",
   "metadata": {},
   "outputs": [],
   "source": []
  }
 ],
 "metadata": {
  "kernelspec": {
   "display_name": "Python 3 (ipykernel)",
   "language": "python",
   "name": "python3"
  },
  "language_info": {
   "codemirror_mode": {
    "name": "ipython",
    "version": 3
   },
   "file_extension": ".py",
   "mimetype": "text/x-python",
   "name": "python",
   "nbconvert_exporter": "python",
   "pygments_lexer": "ipython3",
   "version": "3.9.6"
  }
 },
 "nbformat": 4,
 "nbformat_minor": 5
}
